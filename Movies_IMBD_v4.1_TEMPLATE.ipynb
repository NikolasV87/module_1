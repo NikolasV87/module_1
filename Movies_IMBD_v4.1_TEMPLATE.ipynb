{
 "cells": [
  {
   "cell_type": "code",
   "execution_count": 1,
   "metadata": {
    "_cell_guid": "b1076dfc-b9ad-4769-8c92-a6c4dae69d19",
    "_uuid": "8f2839f25d086af736a60e9eeb907d3b93b6e0e5",
    "colab": {},
    "colab_type": "code",
    "id": "U2D2gTdJVp90"
   },
   "outputs": [],
   "source": [
    "import numpy as np\n",
    "import pandas as pd\n",
    "import seaborn as sns\n",
    "import matplotlib.pyplot as plt\n",
    "from collections import Counter"
   ]
  },
  {
   "cell_type": "code",
   "execution_count": 2,
   "metadata": {
    "_cell_guid": "79c7e3d0-c299-4dcb-8224-4455121ee9b0",
    "_uuid": "d629ff2d2480ee46fbb7e2d37f6b5fab8052498a",
    "colab": {},
    "colab_type": "code",
    "id": "oyGfxL3eVp9-"
   },
   "outputs": [
    {
     "data": {
      "text/html": [
       "<div>\n",
       "<style scoped>\n",
       "    .dataframe tbody tr th:only-of-type {\n",
       "        vertical-align: middle;\n",
       "    }\n",
       "\n",
       "    .dataframe tbody tr th {\n",
       "        vertical-align: top;\n",
       "    }\n",
       "\n",
       "    .dataframe thead th {\n",
       "        text-align: right;\n",
       "    }\n",
       "</style>\n",
       "<table border=\"1\" class=\"dataframe\">\n",
       "  <thead>\n",
       "    <tr style=\"text-align: right;\">\n",
       "      <th></th>\n",
       "      <th>imdb_id</th>\n",
       "      <th>budget</th>\n",
       "      <th>revenue</th>\n",
       "      <th>original_title</th>\n",
       "      <th>cast</th>\n",
       "      <th>director</th>\n",
       "      <th>tagline</th>\n",
       "      <th>overview</th>\n",
       "      <th>runtime</th>\n",
       "      <th>genres</th>\n",
       "      <th>production_companies</th>\n",
       "      <th>release_date</th>\n",
       "      <th>vote_average</th>\n",
       "      <th>release_year</th>\n",
       "    </tr>\n",
       "  </thead>\n",
       "  <tbody>\n",
       "    <tr>\n",
       "      <th>0</th>\n",
       "      <td>tt0369610</td>\n",
       "      <td>150000000</td>\n",
       "      <td>1513528810</td>\n",
       "      <td>Jurassic World</td>\n",
       "      <td>Chris Pratt|Bryce Dallas Howard|Irrfan Khan|Vi...</td>\n",
       "      <td>Colin Trevorrow</td>\n",
       "      <td>The park is open.</td>\n",
       "      <td>Twenty-two years after the events of Jurassic ...</td>\n",
       "      <td>124</td>\n",
       "      <td>Action|Adventure|Science Fiction|Thriller</td>\n",
       "      <td>Universal Studios|Amblin Entertainment|Legenda...</td>\n",
       "      <td>6/9/2015</td>\n",
       "      <td>6.5</td>\n",
       "      <td>2015</td>\n",
       "    </tr>\n",
       "    <tr>\n",
       "      <th>1</th>\n",
       "      <td>tt1392190</td>\n",
       "      <td>150000000</td>\n",
       "      <td>378436354</td>\n",
       "      <td>Mad Max: Fury Road</td>\n",
       "      <td>Tom Hardy|Charlize Theron|Hugh Keays-Byrne|Nic...</td>\n",
       "      <td>George Miller</td>\n",
       "      <td>What a Lovely Day.</td>\n",
       "      <td>An apocalyptic story set in the furthest reach...</td>\n",
       "      <td>120</td>\n",
       "      <td>Action|Adventure|Science Fiction|Thriller</td>\n",
       "      <td>Village Roadshow Pictures|Kennedy Miller Produ...</td>\n",
       "      <td>5/13/2015</td>\n",
       "      <td>7.1</td>\n",
       "      <td>2015</td>\n",
       "    </tr>\n",
       "    <tr>\n",
       "      <th>2</th>\n",
       "      <td>tt2908446</td>\n",
       "      <td>110000000</td>\n",
       "      <td>295238201</td>\n",
       "      <td>Insurgent</td>\n",
       "      <td>Shailene Woodley|Theo James|Kate Winslet|Ansel...</td>\n",
       "      <td>Robert Schwentke</td>\n",
       "      <td>One Choice Can Destroy You</td>\n",
       "      <td>Beatrice Prior must confront her inner demons ...</td>\n",
       "      <td>119</td>\n",
       "      <td>Adventure|Science Fiction|Thriller</td>\n",
       "      <td>Summit Entertainment|Mandeville Films|Red Wago...</td>\n",
       "      <td>3/18/2015</td>\n",
       "      <td>6.3</td>\n",
       "      <td>2015</td>\n",
       "    </tr>\n",
       "    <tr>\n",
       "      <th>3</th>\n",
       "      <td>tt2488496</td>\n",
       "      <td>200000000</td>\n",
       "      <td>2068178225</td>\n",
       "      <td>Star Wars: The Force Awakens</td>\n",
       "      <td>Harrison Ford|Mark Hamill|Carrie Fisher|Adam D...</td>\n",
       "      <td>J.J. Abrams</td>\n",
       "      <td>Every generation has a story.</td>\n",
       "      <td>Thirty years after defeating the Galactic Empi...</td>\n",
       "      <td>136</td>\n",
       "      <td>Action|Adventure|Science Fiction|Fantasy</td>\n",
       "      <td>Lucasfilm|Truenorth Productions|Bad Robot</td>\n",
       "      <td>12/15/2015</td>\n",
       "      <td>7.5</td>\n",
       "      <td>2015</td>\n",
       "    </tr>\n",
       "    <tr>\n",
       "      <th>4</th>\n",
       "      <td>tt2820852</td>\n",
       "      <td>190000000</td>\n",
       "      <td>1506249360</td>\n",
       "      <td>Furious 7</td>\n",
       "      <td>Vin Diesel|Paul Walker|Jason Statham|Michelle ...</td>\n",
       "      <td>James Wan</td>\n",
       "      <td>Vengeance Hits Home</td>\n",
       "      <td>Deckard Shaw seeks revenge against Dominic Tor...</td>\n",
       "      <td>137</td>\n",
       "      <td>Action|Crime|Thriller</td>\n",
       "      <td>Universal Pictures|Original Film|Media Rights ...</td>\n",
       "      <td>4/1/2015</td>\n",
       "      <td>7.3</td>\n",
       "      <td>2015</td>\n",
       "    </tr>\n",
       "    <tr>\n",
       "      <th>...</th>\n",
       "      <td>...</td>\n",
       "      <td>...</td>\n",
       "      <td>...</td>\n",
       "      <td>...</td>\n",
       "      <td>...</td>\n",
       "      <td>...</td>\n",
       "      <td>...</td>\n",
       "      <td>...</td>\n",
       "      <td>...</td>\n",
       "      <td>...</td>\n",
       "      <td>...</td>\n",
       "      <td>...</td>\n",
       "      <td>...</td>\n",
       "      <td>...</td>\n",
       "    </tr>\n",
       "    <tr>\n",
       "      <th>1884</th>\n",
       "      <td>tt0120903</td>\n",
       "      <td>75000000</td>\n",
       "      <td>157299717</td>\n",
       "      <td>X-Men</td>\n",
       "      <td>Patrick Stewart|Hugh Jackman|Ian McKellen|Hall...</td>\n",
       "      <td>Bryan Singer</td>\n",
       "      <td>Evolution Begins</td>\n",
       "      <td>Two mutants, Rogue and Wolverine, come to a pr...</td>\n",
       "      <td>104</td>\n",
       "      <td>Adventure|Action|Science Fiction</td>\n",
       "      <td>Twentieth Century Fox Film Corporation|Donners...</td>\n",
       "      <td>7/13/2000</td>\n",
       "      <td>6.6</td>\n",
       "      <td>2000</td>\n",
       "    </tr>\n",
       "    <tr>\n",
       "      <th>1885</th>\n",
       "      <td>tt0192255</td>\n",
       "      <td>22000000</td>\n",
       "      <td>13555988</td>\n",
       "      <td>The Little Vampire</td>\n",
       "      <td>Richard E. Grant|Jonathan Lipnicki|Jim Carter|...</td>\n",
       "      <td>Uli Edel</td>\n",
       "      <td>They're not just best friends, they're blood b...</td>\n",
       "      <td>Based on the popular books, the story tells of...</td>\n",
       "      <td>95</td>\n",
       "      <td>Horror|Family|Foreign</td>\n",
       "      <td>New Line Cinema</td>\n",
       "      <td>10/27/2000</td>\n",
       "      <td>6.4</td>\n",
       "      <td>2000</td>\n",
       "    </tr>\n",
       "    <tr>\n",
       "      <th>1886</th>\n",
       "      <td>tt0131704</td>\n",
       "      <td>76000000</td>\n",
       "      <td>35134820</td>\n",
       "      <td>The Adventures of Rocky &amp; Bullwinkle</td>\n",
       "      <td>Rene Russo|Jason Alexander|Piper Perabo|Randy ...</td>\n",
       "      <td>Des McAnuff</td>\n",
       "      <td>This summer it's not the same old bull.</td>\n",
       "      <td>Rocky and Bullwinkle have been living off the ...</td>\n",
       "      <td>88</td>\n",
       "      <td>Adventure|Animation|Action|Comedy|Family</td>\n",
       "      <td>Universal Pictures|Capella International|KC Me...</td>\n",
       "      <td>6/30/2000</td>\n",
       "      <td>4.0</td>\n",
       "      <td>2000</td>\n",
       "    </tr>\n",
       "    <tr>\n",
       "      <th>1887</th>\n",
       "      <td>tt0162983</td>\n",
       "      <td>40000000</td>\n",
       "      <td>36037909</td>\n",
       "      <td>Hanging Up</td>\n",
       "      <td>Meg Ryan|Diane Keaton|Lisa Kudrow|Walter Matth...</td>\n",
       "      <td>Diane Keaton</td>\n",
       "      <td>Every family has a few hang-ups.</td>\n",
       "      <td>A trio of sisters bond over their ambivalence ...</td>\n",
       "      <td>94</td>\n",
       "      <td>Comedy|Drama</td>\n",
       "      <td>Laurence Mark Productions|Columbia Pictures Co...</td>\n",
       "      <td>2/16/2000</td>\n",
       "      <td>5.2</td>\n",
       "      <td>2000</td>\n",
       "    </tr>\n",
       "    <tr>\n",
       "      <th>1888</th>\n",
       "      <td>tt0163676</td>\n",
       "      <td>15000000</td>\n",
       "      <td>5217498</td>\n",
       "      <td>The In Crowd</td>\n",
       "      <td>Susan Ward|Lori Heuring|Matthew Settle|Nathan ...</td>\n",
       "      <td>Mary Lambert</td>\n",
       "      <td>What would you do to get in?</td>\n",
       "      <td>A mentally disturbed young woman takes a job a...</td>\n",
       "      <td>105</td>\n",
       "      <td>Thriller</td>\n",
       "      <td>Warner Bros. Pictures</td>\n",
       "      <td>7/19/2000</td>\n",
       "      <td>5.2</td>\n",
       "      <td>2000</td>\n",
       "    </tr>\n",
       "  </tbody>\n",
       "</table>\n",
       "<p>1889 rows × 14 columns</p>\n",
       "</div>"
      ],
      "text/plain": [
       "        imdb_id     budget     revenue                        original_title  \\\n",
       "0     tt0369610  150000000  1513528810                        Jurassic World   \n",
       "1     tt1392190  150000000   378436354                    Mad Max: Fury Road   \n",
       "2     tt2908446  110000000   295238201                             Insurgent   \n",
       "3     tt2488496  200000000  2068178225          Star Wars: The Force Awakens   \n",
       "4     tt2820852  190000000  1506249360                             Furious 7   \n",
       "...         ...        ...         ...                                   ...   \n",
       "1884  tt0120903   75000000   157299717                                 X-Men   \n",
       "1885  tt0192255   22000000    13555988                    The Little Vampire   \n",
       "1886  tt0131704   76000000    35134820  The Adventures of Rocky & Bullwinkle   \n",
       "1887  tt0162983   40000000    36037909                            Hanging Up   \n",
       "1888  tt0163676   15000000     5217498                          The In Crowd   \n",
       "\n",
       "                                                   cast          director  \\\n",
       "0     Chris Pratt|Bryce Dallas Howard|Irrfan Khan|Vi...   Colin Trevorrow   \n",
       "1     Tom Hardy|Charlize Theron|Hugh Keays-Byrne|Nic...     George Miller   \n",
       "2     Shailene Woodley|Theo James|Kate Winslet|Ansel...  Robert Schwentke   \n",
       "3     Harrison Ford|Mark Hamill|Carrie Fisher|Adam D...       J.J. Abrams   \n",
       "4     Vin Diesel|Paul Walker|Jason Statham|Michelle ...         James Wan   \n",
       "...                                                 ...               ...   \n",
       "1884  Patrick Stewart|Hugh Jackman|Ian McKellen|Hall...      Bryan Singer   \n",
       "1885  Richard E. Grant|Jonathan Lipnicki|Jim Carter|...          Uli Edel   \n",
       "1886  Rene Russo|Jason Alexander|Piper Perabo|Randy ...       Des McAnuff   \n",
       "1887  Meg Ryan|Diane Keaton|Lisa Kudrow|Walter Matth...      Diane Keaton   \n",
       "1888  Susan Ward|Lori Heuring|Matthew Settle|Nathan ...      Mary Lambert   \n",
       "\n",
       "                                                tagline  \\\n",
       "0                                     The park is open.   \n",
       "1                                    What a Lovely Day.   \n",
       "2                            One Choice Can Destroy You   \n",
       "3                         Every generation has a story.   \n",
       "4                                   Vengeance Hits Home   \n",
       "...                                                 ...   \n",
       "1884                                   Evolution Begins   \n",
       "1885  They're not just best friends, they're blood b...   \n",
       "1886            This summer it's not the same old bull.   \n",
       "1887                   Every family has a few hang-ups.   \n",
       "1888                       What would you do to get in?   \n",
       "\n",
       "                                               overview  runtime  \\\n",
       "0     Twenty-two years after the events of Jurassic ...      124   \n",
       "1     An apocalyptic story set in the furthest reach...      120   \n",
       "2     Beatrice Prior must confront her inner demons ...      119   \n",
       "3     Thirty years after defeating the Galactic Empi...      136   \n",
       "4     Deckard Shaw seeks revenge against Dominic Tor...      137   \n",
       "...                                                 ...      ...   \n",
       "1884  Two mutants, Rogue and Wolverine, come to a pr...      104   \n",
       "1885  Based on the popular books, the story tells of...       95   \n",
       "1886  Rocky and Bullwinkle have been living off the ...       88   \n",
       "1887  A trio of sisters bond over their ambivalence ...       94   \n",
       "1888  A mentally disturbed young woman takes a job a...      105   \n",
       "\n",
       "                                         genres  \\\n",
       "0     Action|Adventure|Science Fiction|Thriller   \n",
       "1     Action|Adventure|Science Fiction|Thriller   \n",
       "2            Adventure|Science Fiction|Thriller   \n",
       "3      Action|Adventure|Science Fiction|Fantasy   \n",
       "4                         Action|Crime|Thriller   \n",
       "...                                         ...   \n",
       "1884           Adventure|Action|Science Fiction   \n",
       "1885                      Horror|Family|Foreign   \n",
       "1886   Adventure|Animation|Action|Comedy|Family   \n",
       "1887                               Comedy|Drama   \n",
       "1888                                   Thriller   \n",
       "\n",
       "                                   production_companies release_date  \\\n",
       "0     Universal Studios|Amblin Entertainment|Legenda...     6/9/2015   \n",
       "1     Village Roadshow Pictures|Kennedy Miller Produ...    5/13/2015   \n",
       "2     Summit Entertainment|Mandeville Films|Red Wago...    3/18/2015   \n",
       "3             Lucasfilm|Truenorth Productions|Bad Robot   12/15/2015   \n",
       "4     Universal Pictures|Original Film|Media Rights ...     4/1/2015   \n",
       "...                                                 ...          ...   \n",
       "1884  Twentieth Century Fox Film Corporation|Donners...    7/13/2000   \n",
       "1885                                    New Line Cinema   10/27/2000   \n",
       "1886  Universal Pictures|Capella International|KC Me...    6/30/2000   \n",
       "1887  Laurence Mark Productions|Columbia Pictures Co...    2/16/2000   \n",
       "1888                              Warner Bros. Pictures    7/19/2000   \n",
       "\n",
       "      vote_average  release_year  \n",
       "0              6.5          2015  \n",
       "1              7.1          2015  \n",
       "2              6.3          2015  \n",
       "3              7.5          2015  \n",
       "4              7.3          2015  \n",
       "...            ...           ...  \n",
       "1884           6.6          2000  \n",
       "1885           6.4          2000  \n",
       "1886           4.0          2000  \n",
       "1887           5.2          2000  \n",
       "1888           5.2          2000  \n",
       "\n",
       "[1889 rows x 14 columns]"
      ]
     },
     "metadata": {},
     "output_type": "display_data"
    }
   ],
   "source": [
    "data = pd.read_csv('movie_bd_v5.csv')\n",
    "data.sample(5)\n",
    "display(data)"
   ]
  },
  {
   "cell_type": "code",
   "execution_count": 3,
   "metadata": {
    "colab": {},
    "colab_type": "code",
    "id": "CoYUnagMVp-C"
   },
   "outputs": [
    {
     "data": {
      "text/html": [
       "<div>\n",
       "<style scoped>\n",
       "    .dataframe tbody tr th:only-of-type {\n",
       "        vertical-align: middle;\n",
       "    }\n",
       "\n",
       "    .dataframe tbody tr th {\n",
       "        vertical-align: top;\n",
       "    }\n",
       "\n",
       "    .dataframe thead th {\n",
       "        text-align: right;\n",
       "    }\n",
       "</style>\n",
       "<table border=\"1\" class=\"dataframe\">\n",
       "  <thead>\n",
       "    <tr style=\"text-align: right;\">\n",
       "      <th></th>\n",
       "      <th>budget</th>\n",
       "      <th>revenue</th>\n",
       "      <th>runtime</th>\n",
       "      <th>vote_average</th>\n",
       "      <th>release_year</th>\n",
       "    </tr>\n",
       "  </thead>\n",
       "  <tbody>\n",
       "    <tr>\n",
       "      <th>count</th>\n",
       "      <td>1.889000e+03</td>\n",
       "      <td>1.889000e+03</td>\n",
       "      <td>1889.000000</td>\n",
       "      <td>1889.000000</td>\n",
       "      <td>1889.000000</td>\n",
       "    </tr>\n",
       "    <tr>\n",
       "      <th>mean</th>\n",
       "      <td>5.431083e+07</td>\n",
       "      <td>1.553653e+08</td>\n",
       "      <td>109.658549</td>\n",
       "      <td>6.140762</td>\n",
       "      <td>2007.860773</td>\n",
       "    </tr>\n",
       "    <tr>\n",
       "      <th>std</th>\n",
       "      <td>4.858721e+07</td>\n",
       "      <td>2.146698e+08</td>\n",
       "      <td>18.017041</td>\n",
       "      <td>0.764763</td>\n",
       "      <td>4.468841</td>\n",
       "    </tr>\n",
       "    <tr>\n",
       "      <th>min</th>\n",
       "      <td>5.000000e+06</td>\n",
       "      <td>2.033165e+06</td>\n",
       "      <td>63.000000</td>\n",
       "      <td>3.300000</td>\n",
       "      <td>2000.000000</td>\n",
       "    </tr>\n",
       "    <tr>\n",
       "      <th>25%</th>\n",
       "      <td>2.000000e+07</td>\n",
       "      <td>3.456058e+07</td>\n",
       "      <td>97.000000</td>\n",
       "      <td>5.600000</td>\n",
       "      <td>2004.000000</td>\n",
       "    </tr>\n",
       "    <tr>\n",
       "      <th>50%</th>\n",
       "      <td>3.800000e+07</td>\n",
       "      <td>8.361541e+07</td>\n",
       "      <td>107.000000</td>\n",
       "      <td>6.100000</td>\n",
       "      <td>2008.000000</td>\n",
       "    </tr>\n",
       "    <tr>\n",
       "      <th>75%</th>\n",
       "      <td>7.200000e+07</td>\n",
       "      <td>1.782626e+08</td>\n",
       "      <td>120.000000</td>\n",
       "      <td>6.600000</td>\n",
       "      <td>2012.000000</td>\n",
       "    </tr>\n",
       "    <tr>\n",
       "      <th>max</th>\n",
       "      <td>3.800000e+08</td>\n",
       "      <td>2.781506e+09</td>\n",
       "      <td>214.000000</td>\n",
       "      <td>8.100000</td>\n",
       "      <td>2015.000000</td>\n",
       "    </tr>\n",
       "  </tbody>\n",
       "</table>\n",
       "</div>"
      ],
      "text/plain": [
       "             budget       revenue      runtime  vote_average  release_year\n",
       "count  1.889000e+03  1.889000e+03  1889.000000   1889.000000   1889.000000\n",
       "mean   5.431083e+07  1.553653e+08   109.658549      6.140762   2007.860773\n",
       "std    4.858721e+07  2.146698e+08    18.017041      0.764763      4.468841\n",
       "min    5.000000e+06  2.033165e+06    63.000000      3.300000   2000.000000\n",
       "25%    2.000000e+07  3.456058e+07    97.000000      5.600000   2004.000000\n",
       "50%    3.800000e+07  8.361541e+07   107.000000      6.100000   2008.000000\n",
       "75%    7.200000e+07  1.782626e+08   120.000000      6.600000   2012.000000\n",
       "max    3.800000e+08  2.781506e+09   214.000000      8.100000   2015.000000"
      ]
     },
     "execution_count": 3,
     "metadata": {},
     "output_type": "execute_result"
    }
   ],
   "source": [
    "data.describe()"
   ]
  },
  {
   "cell_type": "markdown",
   "metadata": {
    "colab_type": "text",
    "id": "DTIt7ezGVp-G"
   },
   "source": [
    "# Предобработка"
   ]
  },
  {
   "cell_type": "code",
   "execution_count": 4,
   "metadata": {
    "colab": {},
    "colab_type": "code",
    "id": "jNb40DwKVp-H"
   },
   "outputs": [],
   "source": [
    "answers = {} # создадим словарь для ответов\n",
    "\n",
    "# тут другие ваши предобработки колонок например:\n",
    "\n",
    "#the time given in the dataset is in string format.\n",
    "#So we need to change this in datetime format\n",
    "# ...\n",
    "\n",
    "# Дабавим в DataFrame колонку с прибыльностью фильмов, которая равна разности между сборами и бюджетом \n",
    "\n",
    "data['profit'] = data['revenue'] - data ['budget']\n",
    "\n",
    "data['overview'].astype('str')\n",
    "\n",
    "# Создадим функцию для подсчета каждого элементав колонке, когда в ячейке несколько элементов\n",
    "\n",
    "def counter(movie_bd, x): # movie_bd - датафрейм, x = колонка датафрейма\n",
    "    data_plot=movie_bd[x].str.cat(sep='|') # создаём строку  со значениями из колонки x, с разделителем '|'\n",
    "    dat=pd.Series(data_plot.split('|')) # преоброзуем строку в серию по розделителю '|'\n",
    "    info=dat.value_counts(ascending=False) # считаем количество элементов в серии\n",
    "    return info"
   ]
  },
  {
   "cell_type": "markdown",
   "metadata": {
    "colab_type": "text",
    "id": "Nd-G5gX6Vp-M"
   },
   "source": [
    "Использовать варианты ответов в коде решения запрещено.    \n",
    "Вы думаете и в жизни у вас будут варианты ответов?)"
   ]
  },
  {
   "cell_type": "code",
   "execution_count": 5,
   "metadata": {
    "colab": {},
    "colab_type": "code",
    "id": "uVnXAY5RVp-O"
   },
   "outputs": [],
   "source": [
    "# в словарь вставляем номер вопроса и ваш ответ на него\n",
    "# Пример: \n",
    "answers['1'] = '2. Spider-Man 3 (tt0413300)'\n",
    "# запишите свой вариант ответа\n",
    "answers['1'] = '723 Pirates of the Caribbean: On Stranger Tides ( tt1298650 )' # +\n",
    "# если ответили верно, можете добавить комментарий со значком \"+\""
   ]
  },
  {
   "cell_type": "code",
   "execution_count": 6,
   "metadata": {
    "colab": {},
    "colab_type": "code",
    "id": "dZwb3m28Vp-S"
   },
   "outputs": [
    {
     "name": "stdout",
     "output_type": "stream",
     "text": [
      "723 Pirates of the Caribbean: On Stranger Tides ( tt1298650 )\n"
     ]
    }
   ],
   "source": [
    "# тут пишем ваш код для решения данного вопроса:\n",
    "bigest_budget=data['budget'].idxmax()  # Находим индекс строки с самым большим бюджетом\n",
    "print(bigest_budget,                                    # Выводим на экран  индекс строки,\n",
    "           data.iloc[bigest_budget, 3],            # ячейку с названием\n",
    "           '(', data.iloc[bigest_budget, 0], ')')  #и ячейку imdb_id\n"
   ]
  },
  {
   "cell_type": "markdown",
   "metadata": {
    "colab_type": "text",
    "id": "K7L3nbRXVp-X"
   },
   "source": [
    "ВАРИАНТ 2"
   ]
  },
  {
   "cell_type": "code",
   "execution_count": 7,
   "metadata": {
    "colab": {},
    "colab_type": "code",
    "id": "OGaoQI7rVp-X"
   },
   "outputs": [
    {
     "data": {
      "text/html": [
       "<div>\n",
       "<style scoped>\n",
       "    .dataframe tbody tr th:only-of-type {\n",
       "        vertical-align: middle;\n",
       "    }\n",
       "\n",
       "    .dataframe tbody tr th {\n",
       "        vertical-align: top;\n",
       "    }\n",
       "\n",
       "    .dataframe thead th {\n",
       "        text-align: right;\n",
       "    }\n",
       "</style>\n",
       "<table border=\"1\" class=\"dataframe\">\n",
       "  <thead>\n",
       "    <tr style=\"text-align: right;\">\n",
       "      <th></th>\n",
       "      <th>original_title</th>\n",
       "      <th>imdb_id</th>\n",
       "    </tr>\n",
       "  </thead>\n",
       "  <tbody>\n",
       "    <tr>\n",
       "      <th>723</th>\n",
       "      <td>Pirates of the Caribbean: On Stranger Tides</td>\n",
       "      <td>tt1298650</td>\n",
       "    </tr>\n",
       "  </tbody>\n",
       "</table>\n",
       "</div>"
      ],
      "text/plain": [
       "                                  original_title    imdb_id\n",
       "723  Pirates of the Caribbean: On Stranger Tides  tt1298650"
      ]
     },
     "execution_count": 7,
     "metadata": {},
     "output_type": "execute_result"
    }
   ],
   "source": [
    "# можно добавлять разные варианты решения\n",
    "data.sort_values(by=['budget'], ascending=False).head(1)[['original_title','imdb_id']]"
   ]
  },
  {
   "cell_type": "markdown",
   "metadata": {
    "colab_type": "text",
    "id": "FNRbbI3vVp-c"
   },
   "source": [
    "# 2. Какой из фильмов самый длительный (в минутах)?"
   ]
  },
  {
   "cell_type": "code",
   "execution_count": 8,
   "metadata": {
    "colab": {},
    "colab_type": "code",
    "id": "vHAoEXNTVp-d"
   },
   "outputs": [],
   "source": [
    "# думаю логику работы с этим словарем вы уже поняли, \n",
    "# по этому не буду больше его дублировать\n",
    "answers['2'] = '1157 Gods and Generals ( tt0279111 )' # +"
   ]
  },
  {
   "cell_type": "code",
   "execution_count": 9,
   "metadata": {
    "colab": {},
    "colab_type": "code",
    "id": "ot-VX2XrVp-g"
   },
   "outputs": [
    {
     "name": "stdout",
     "output_type": "stream",
     "text": [
      "1157 Gods and Generals ( tt0279111 )\n"
     ]
    }
   ],
   "source": [
    "longest_film=data['runtime'].idxmax()\n",
    "print(longest_film, data.iloc[longest_film, 3],'(', data.iloc[longest_film, 0], ')') "
   ]
  },
  {
   "cell_type": "markdown",
   "metadata": {},
   "source": [
    "ВАРИАНТ 2"
   ]
  },
  {
   "cell_type": "code",
   "execution_count": 10,
   "metadata": {},
   "outputs": [
    {
     "data": {
      "text/html": [
       "<div>\n",
       "<style scoped>\n",
       "    .dataframe tbody tr th:only-of-type {\n",
       "        vertical-align: middle;\n",
       "    }\n",
       "\n",
       "    .dataframe tbody tr th {\n",
       "        vertical-align: top;\n",
       "    }\n",
       "\n",
       "    .dataframe thead th {\n",
       "        text-align: right;\n",
       "    }\n",
       "</style>\n",
       "<table border=\"1\" class=\"dataframe\">\n",
       "  <thead>\n",
       "    <tr style=\"text-align: right;\">\n",
       "      <th></th>\n",
       "      <th>original_title</th>\n",
       "      <th>imdb_id</th>\n",
       "    </tr>\n",
       "  </thead>\n",
       "  <tbody>\n",
       "    <tr>\n",
       "      <th>1157</th>\n",
       "      <td>Gods and Generals</td>\n",
       "      <td>tt0279111</td>\n",
       "    </tr>\n",
       "  </tbody>\n",
       "</table>\n",
       "</div>"
      ],
      "text/plain": [
       "         original_title    imdb_id\n",
       "1157  Gods and Generals  tt0279111"
      ]
     },
     "execution_count": 10,
     "metadata": {},
     "output_type": "execute_result"
    }
   ],
   "source": [
    "data.sort_values(by=['runtime'], ascending=False).head(1)[['original_title','imdb_id']]"
   ]
  },
  {
   "cell_type": "markdown",
   "metadata": {
    "colab_type": "text",
    "id": "bapLlpW8Vp-k"
   },
   "source": [
    "# 3. Какой из фильмов самый короткий (в минутах)?\n",
    "\n",
    "\n",
    "\n"
   ]
  },
  {
   "cell_type": "code",
   "execution_count": 11,
   "metadata": {
    "colab": {},
    "colab_type": "code",
    "id": "YBxaSHuAVp-l"
   },
   "outputs": [],
   "source": [
    "answers['3']='768 Winnie the Pooh ( tt1449283 )' # +"
   ]
  },
  {
   "cell_type": "code",
   "execution_count": 12,
   "metadata": {},
   "outputs": [
    {
     "name": "stdout",
     "output_type": "stream",
     "text": [
      "768 Winnie the Pooh ( tt1449283 )\n"
     ]
    }
   ],
   "source": [
    "shot_film=data['runtime'].idxmin()\n",
    "print(shot_film, data.iloc[shot_film, 3],'(', data.iloc[shot_film, 0], ')') "
   ]
  },
  {
   "cell_type": "code",
   "execution_count": 13,
   "metadata": {},
   "outputs": [
    {
     "data": {
      "text/html": [
       "<div>\n",
       "<style scoped>\n",
       "    .dataframe tbody tr th:only-of-type {\n",
       "        vertical-align: middle;\n",
       "    }\n",
       "\n",
       "    .dataframe tbody tr th {\n",
       "        vertical-align: top;\n",
       "    }\n",
       "\n",
       "    .dataframe thead th {\n",
       "        text-align: right;\n",
       "    }\n",
       "</style>\n",
       "<table border=\"1\" class=\"dataframe\">\n",
       "  <thead>\n",
       "    <tr style=\"text-align: right;\">\n",
       "      <th></th>\n",
       "      <th>original_title</th>\n",
       "      <th>imdb_id</th>\n",
       "    </tr>\n",
       "  </thead>\n",
       "  <tbody>\n",
       "    <tr>\n",
       "      <th>768</th>\n",
       "      <td>Winnie the Pooh</td>\n",
       "      <td>tt1449283</td>\n",
       "    </tr>\n",
       "  </tbody>\n",
       "</table>\n",
       "</div>"
      ],
      "text/plain": [
       "      original_title    imdb_id\n",
       "768  Winnie the Pooh  tt1449283"
      ]
     },
     "execution_count": 13,
     "metadata": {},
     "output_type": "execute_result"
    }
   ],
   "source": [
    "data.sort_values(by=['runtime']).head(1)[['original_title','imdb_id']]"
   ]
  },
  {
   "cell_type": "markdown",
   "metadata": {
    "colab_type": "text",
    "id": "TfQbxbfNVp-p"
   },
   "source": [
    "# 4. Какова средняя длительность фильмов?\n"
   ]
  },
  {
   "cell_type": "code",
   "execution_count": 14,
   "metadata": {
    "colab": {},
    "colab_type": "code",
    "id": "5K6dKZYVVp-q"
   },
   "outputs": [],
   "source": [
    "answers['4'] = 110 # +"
   ]
  },
  {
   "cell_type": "code",
   "execution_count": 15,
   "metadata": {},
   "outputs": [
    {
     "name": "stdout",
     "output_type": "stream",
     "text": [
      "110\n"
     ]
    }
   ],
   "source": [
    "mean_film = round(data['runtime'].mean())\n",
    "print(mean_film) "
   ]
  },
  {
   "cell_type": "markdown",
   "metadata": {
    "colab_type": "text",
    "id": "r5TvbnT_Vp-u"
   },
   "source": [
    "# 5. Каково медианное значение длительности фильмов? "
   ]
  },
  {
   "cell_type": "code",
   "execution_count": 16,
   "metadata": {
    "colab": {},
    "colab_type": "code",
    "id": "iBROplKnVp-v"
   },
   "outputs": [],
   "source": [
    "answers['5'] = 107.0 # +"
   ]
  },
  {
   "cell_type": "code",
   "execution_count": 17,
   "metadata": {},
   "outputs": [
    {
     "name": "stdout",
     "output_type": "stream",
     "text": [
      "107.0\n"
     ]
    }
   ],
   "source": [
    "median_film = data['runtime'].median(axis = 0)\n",
    "print (median_film)"
   ]
  },
  {
   "cell_type": "markdown",
   "metadata": {
    "colab_type": "text",
    "id": "39P-deDSVp-y"
   },
   "source": [
    "# 6. Какой самый прибыльный фильм?\n",
    "#### Внимание! Здесь и далее под «прибылью» или «убытками» понимается разность между сборами и бюджетом фильма. (прибыль = сборы - бюджет) в нашем датасете это будет (profit = revenue - budget) "
   ]
  },
  {
   "cell_type": "code",
   "execution_count": 18,
   "metadata": {
    "colab": {},
    "colab_type": "code",
    "id": "UYZh4T9WVp-y"
   },
   "outputs": [],
   "source": [
    "answers['6'] = '239 Avatar ( tt0499549 )'# +"
   ]
  },
  {
   "cell_type": "code",
   "execution_count": 19,
   "metadata": {},
   "outputs": [
    {
     "name": "stdout",
     "output_type": "stream",
     "text": [
      "239 Avatar ( tt0499549 )\n"
     ]
    }
   ],
   "source": [
    "# лучше код получения столбца profit вынести в Предобработку что в начале\n",
    "bigest_profit=data['profit'].idxmax()  # Находим индекс строки с самой большой прибылью\n",
    "print(bigest_profit,  data.iloc[bigest_profit, 3],'(', data.iloc[bigest_profit, 0],')')                                                                   "
   ]
  },
  {
   "cell_type": "markdown",
   "metadata": {
    "colab_type": "text",
    "id": "M99JmIX4Vp-2"
   },
   "source": [
    "# 7. Какой фильм самый убыточный? "
   ]
  },
  {
   "cell_type": "code",
   "execution_count": 20,
   "metadata": {
    "colab": {},
    "colab_type": "code",
    "id": "w-D2m4XPVp-3"
   },
   "outputs": [],
   "source": [
    "answers['7'] = \"1245 The Lone Ranger ( tt1210819 )\" # +"
   ]
  },
  {
   "cell_type": "code",
   "execution_count": 21,
   "metadata": {},
   "outputs": [
    {
     "name": "stdout",
     "output_type": "stream",
     "text": [
      "1245 The Lone Ranger ( tt1210819 )\n"
     ]
    }
   ],
   "source": [
    "lost_profit=data['profit'].idxmin()  # Находим индекс строки с с самой маленкой прибылью\n",
    "print(lost_profit, data.iloc[lost_profit, 3], '(', data.iloc[lost_profit, 0], ')' )"
   ]
  },
  {
   "cell_type": "markdown",
   "metadata": {},
   "source": [
    "ВАРИАНТ 2"
   ]
  },
  {
   "cell_type": "code",
   "execution_count": 22,
   "metadata": {},
   "outputs": [
    {
     "data": {
      "text/html": [
       "<div>\n",
       "<style scoped>\n",
       "    .dataframe tbody tr th:only-of-type {\n",
       "        vertical-align: middle;\n",
       "    }\n",
       "\n",
       "    .dataframe tbody tr th {\n",
       "        vertical-align: top;\n",
       "    }\n",
       "\n",
       "    .dataframe thead th {\n",
       "        text-align: right;\n",
       "    }\n",
       "</style>\n",
       "<table border=\"1\" class=\"dataframe\">\n",
       "  <thead>\n",
       "    <tr style=\"text-align: right;\">\n",
       "      <th></th>\n",
       "      <th>original_title</th>\n",
       "      <th>imdb_id</th>\n",
       "    </tr>\n",
       "  </thead>\n",
       "  <tbody>\n",
       "    <tr>\n",
       "      <th>1245</th>\n",
       "      <td>The Lone Ranger</td>\n",
       "      <td>tt1210819</td>\n",
       "    </tr>\n",
       "  </tbody>\n",
       "</table>\n",
       "</div>"
      ],
      "text/plain": [
       "       original_title    imdb_id\n",
       "1245  The Lone Ranger  tt1210819"
      ]
     },
     "execution_count": 22,
     "metadata": {},
     "output_type": "execute_result"
    }
   ],
   "source": [
    "data.sort_values(by=['profit']).head(1)[['original_title','imdb_id']]"
   ]
  },
  {
   "cell_type": "markdown",
   "metadata": {
    "colab_type": "text",
    "id": "wEOM5ERVVp-6"
   },
   "source": [
    "# 8. У скольких фильмов из датасета объем сборов оказался выше бюджета?"
   ]
  },
  {
   "cell_type": "code",
   "execution_count": 23,
   "metadata": {
    "colab": {},
    "colab_type": "code",
    "id": "y00_7HD6Vp-7"
   },
   "outputs": [],
   "source": [
    "answers['8'] = '1478'# +"
   ]
  },
  {
   "cell_type": "code",
   "execution_count": 24,
   "metadata": {},
   "outputs": [
    {
     "data": {
      "text/plain": [
       "1478"
      ]
     },
     "execution_count": 24,
     "metadata": {},
     "output_type": "execute_result"
    }
   ],
   "source": [
    " len(data[data.revenue > data.budget])"
   ]
  },
  {
   "cell_type": "markdown",
   "metadata": {
    "colab_type": "text",
    "id": "xhpspA9KVp_A"
   },
   "source": [
    "# 9. Какой фильм оказался самым кассовым в 2008 году?"
   ]
  },
  {
   "cell_type": "code",
   "execution_count": 25,
   "metadata": {
    "colab": {},
    "colab_type": "code",
    "id": "MoUyQr9RVp_B"
   },
   "outputs": [],
   "source": [
    "answers['9'] = '599. The Dark Knight (tt0468569)'# +"
   ]
  },
  {
   "cell_type": "code",
   "execution_count": 26,
   "metadata": {},
   "outputs": [
    {
     "data": {
      "text/html": [
       "<div>\n",
       "<style scoped>\n",
       "    .dataframe tbody tr th:only-of-type {\n",
       "        vertical-align: middle;\n",
       "    }\n",
       "\n",
       "    .dataframe tbody tr th {\n",
       "        vertical-align: top;\n",
       "    }\n",
       "\n",
       "    .dataframe thead th {\n",
       "        text-align: right;\n",
       "    }\n",
       "</style>\n",
       "<table border=\"1\" class=\"dataframe\">\n",
       "  <thead>\n",
       "    <tr style=\"text-align: right;\">\n",
       "      <th></th>\n",
       "      <th>imdb_id</th>\n",
       "      <th>original_title</th>\n",
       "      <th>revenue</th>\n",
       "    </tr>\n",
       "  </thead>\n",
       "  <tbody>\n",
       "    <tr>\n",
       "      <th>599</th>\n",
       "      <td>tt0468569</td>\n",
       "      <td>The Dark Knight</td>\n",
       "      <td>1001921825</td>\n",
       "    </tr>\n",
       "  </tbody>\n",
       "</table>\n",
       "</div>"
      ],
      "text/plain": [
       "       imdb_id   original_title     revenue\n",
       "599  tt0468569  The Dark Knight  1001921825"
      ]
     },
     "execution_count": 26,
     "metadata": {},
     "output_type": "execute_result"
    }
   ],
   "source": [
    "data_1 = data[data['release_year'] == 2008][['imdb_id', 'original_title', 'revenue']]\n",
    "data_1[data_1['revenue'] == data_1['revenue'].max()]"
   ]
  },
  {
   "cell_type": "markdown",
   "metadata": {
    "colab_type": "text",
    "id": "Zi4hDKidVp_F"
   },
   "source": [
    "# 10. Самый убыточный фильм за период с 2012 по 2014 г. (включительно)?\n"
   ]
  },
  {
   "cell_type": "code",
   "execution_count": 27,
   "metadata": {
    "colab": {},
    "colab_type": "code",
    "id": "XqyRmufJVp_F",
    "scrolled": true
   },
   "outputs": [],
   "source": [
    "answers['10'] = '1245. The Lone Ranger  (tt1210819)'# +"
   ]
  },
  {
   "cell_type": "code",
   "execution_count": 28,
   "metadata": {},
   "outputs": [
    {
     "data": {
      "text/html": [
       "<div>\n",
       "<style scoped>\n",
       "    .dataframe tbody tr th:only-of-type {\n",
       "        vertical-align: middle;\n",
       "    }\n",
       "\n",
       "    .dataframe tbody tr th {\n",
       "        vertical-align: top;\n",
       "    }\n",
       "\n",
       "    .dataframe thead th {\n",
       "        text-align: right;\n",
       "    }\n",
       "</style>\n",
       "<table border=\"1\" class=\"dataframe\">\n",
       "  <thead>\n",
       "    <tr style=\"text-align: right;\">\n",
       "      <th></th>\n",
       "      <th>imdb_id</th>\n",
       "      <th>original_title</th>\n",
       "      <th>profit</th>\n",
       "    </tr>\n",
       "  </thead>\n",
       "  <tbody>\n",
       "    <tr>\n",
       "      <th>1245</th>\n",
       "      <td>tt1210819</td>\n",
       "      <td>The Lone Ranger</td>\n",
       "      <td>-165710090</td>\n",
       "    </tr>\n",
       "  </tbody>\n",
       "</table>\n",
       "</div>"
      ],
      "text/plain": [
       "        imdb_id   original_title     profit\n",
       "1245  tt1210819  The Lone Ranger -165710090"
      ]
     },
     "execution_count": 28,
     "metadata": {},
     "output_type": "execute_result"
    }
   ],
   "source": [
    "data_1 = data[(data['release_year']<= 2014) &(data['release_year']>= 2012)][['imdb_id', 'original_title', 'profit']]\n",
    "data_1.sort_values(by='profit').head(1)"
   ]
  },
  {
   "cell_type": "markdown",
   "metadata": {
    "colab_type": "text",
    "id": "EA7Sa9dkVp_I"
   },
   "source": [
    "# 11. Какого жанра фильмов больше всего?"
   ]
  },
  {
   "cell_type": "code",
   "execution_count": 29,
   "metadata": {
    "colab": {},
    "colab_type": "code",
    "id": "zsJAwJ8QVp_J"
   },
   "outputs": [],
   "source": [
    "# эту задачу тоже можно решать разными подходами, попробуй реализовать разные варианты\n",
    "# если будешь добавлять функцию - выноси ее в предобработку что в начале\n",
    "answers['11'] = 'Drama' # +     "
   ]
  },
  {
   "cell_type": "code",
   "execution_count": 30,
   "metadata": {},
   "outputs": [
    {
     "data": {
      "text/plain": [
       "Drama              782\n",
       "Comedy             683\n",
       "Thriller           596\n",
       "Action             582\n",
       "Adventure          415\n",
       "Crime              315\n",
       "Romance            308\n",
       "Family             260\n",
       "Science Fiction    248\n",
       "Fantasy            222\n",
       "Horror             176\n",
       "Mystery            168\n",
       "Animation          139\n",
       "Music               64\n",
       "History             62\n",
       "War                 58\n",
       "Western             19\n",
       "Documentary          8\n",
       "Foreign              2\n",
       "dtype: int64"
      ]
     },
     "execution_count": 30,
     "metadata": {},
     "output_type": "execute_result"
    }
   ],
   "source": [
    "pd.DataFrame(data.genres.str.split('|').tolist()).stack().value_counts()"
   ]
  },
  {
   "cell_type": "markdown",
   "metadata": {
    "colab_type": "text",
    "id": "Ax6g2C8SVp_M"
   },
   "source": [
    "ВАРИАНТ 2"
   ]
  },
  {
   "cell_type": "code",
   "execution_count": 31,
   "metadata": {
    "colab": {},
    "colab_type": "code",
    "id": "otO3SbrSVp_N"
   },
   "outputs": [
    {
     "data": {
      "text/plain": [
       "[('Drama', 782),\n",
       " ('Comedy', 683),\n",
       " ('Thriller', 596),\n",
       " ('Action', 582),\n",
       " ('Adventure', 415),\n",
       " ('Crime', 315),\n",
       " ('Romance', 308),\n",
       " ('Family', 260),\n",
       " ('Science Fiction', 248),\n",
       " ('Fantasy', 222),\n",
       " ('Horror', 176),\n",
       " ('Mystery', 168),\n",
       " ('Animation', 139),\n",
       " ('Music', 64),\n",
       " ('History', 62),\n",
       " ('War', 58),\n",
       " ('Western', 19),\n",
       " ('Documentary', 8),\n",
       " ('Foreign', 2)]"
      ]
     },
     "execution_count": 31,
     "metadata": {},
     "output_type": "execute_result"
    }
   ],
   "source": [
    "genre_counter = Counter()  # создаём словарь Counter() для подсчета уникальных значений\n",
    "for x in data.genres.str.split('|'):  # задаем цикл для перебора элементов в колонке \"genres\", значение которой разбиты по '|'\n",
    "    genre_counter += Counter(x)  # добавляем  найденные значения в Counter(x)\n",
    "genre_counter.most_common()  #  возвращает все элементы, в порядке убывания встречаемости."
   ]
  },
  {
   "cell_type": "markdown",
   "metadata": {
    "colab_type": "text",
    "id": "T9_bPWpkVp_Q"
   },
   "source": [
    "# 12. Фильмы какого жанра чаще всего становятся прибыльными? "
   ]
  },
  {
   "cell_type": "code",
   "execution_count": 32,
   "metadata": {
    "colab": {},
    "colab_type": "code",
    "id": "Tmt8MaK1Vp_R"
   },
   "outputs": [],
   "source": [
    "answers['12'] = 'Drama'  # +    "
   ]
  },
  {
   "cell_type": "code",
   "execution_count": 33,
   "metadata": {},
   "outputs": [
    {
     "name": "stdout",
     "output_type": "stream",
     "text": [
      "[('Drama', 560), ('Comedy', 551), ('Thriller', 446)]\n"
     ]
    }
   ],
   "source": [
    "from collections import Counter\n",
    "genres = data[data['profit'] > 0]['genres'].to_list()\n",
    "films = Counter()\n",
    "for i in genres:\n",
    "    for j in i.split('|'):\n",
    "        films[j] += 1\n",
    "print(films.most_common(3))"
   ]
  },
  {
   "cell_type": "code",
   "execution_count": 34,
   "metadata": {},
   "outputs": [
    {
     "name": "stdout",
     "output_type": "stream",
     "text": [
      "Drama              560\n",
      "Comedy             551\n",
      "Thriller           446\n",
      "Action             444\n",
      "Adventure          337\n",
      "Romance            242\n",
      "Crime              231\n",
      "Family             226\n",
      "Science Fiction    195\n",
      "Fantasy            188\n",
      "Horror             150\n",
      "Animation          120\n",
      "Mystery            119\n",
      "Music               47\n",
      "History             46\n",
      "War                 41\n",
      "Western             12\n",
      "Documentary          7\n",
      "dtype: int64\n"
     ]
    }
   ],
   "source": [
    "data_profit=data[data.profit>0]\n",
    "genres=data_profit.genres.str.split('|',expand=True).stack().value_counts()\n",
    "print(genres)"
   ]
  },
  {
   "cell_type": "markdown",
   "metadata": {
    "colab_type": "text",
    "id": "0F23bgsDVp_U"
   },
   "source": [
    "# 13. У какого режиссера самые большие суммарные кассовые сбооры?"
   ]
  },
  {
   "cell_type": "code",
   "execution_count": 35,
   "metadata": {},
   "outputs": [],
   "source": [
    "answers['13'] = 'Peter Jackson' # +      "
   ]
  },
  {
   "cell_type": "code",
   "execution_count": 36,
   "metadata": {},
   "outputs": [
    {
     "data": {
      "text/html": [
       "<div>\n",
       "<style scoped>\n",
       "    .dataframe tbody tr th:only-of-type {\n",
       "        vertical-align: middle;\n",
       "    }\n",
       "\n",
       "    .dataframe tbody tr th {\n",
       "        vertical-align: top;\n",
       "    }\n",
       "\n",
       "    .dataframe thead th {\n",
       "        text-align: right;\n",
       "    }\n",
       "</style>\n",
       "<table border=\"1\" class=\"dataframe\">\n",
       "  <thead>\n",
       "    <tr style=\"text-align: right;\">\n",
       "      <th></th>\n",
       "      <th>revenue</th>\n",
       "    </tr>\n",
       "    <tr>\n",
       "      <th>director</th>\n",
       "      <th></th>\n",
       "    </tr>\n",
       "  </thead>\n",
       "  <tbody>\n",
       "    <tr>\n",
       "      <th>Peter Jackson</th>\n",
       "      <td>6490593685</td>\n",
       "    </tr>\n",
       "    <tr>\n",
       "      <th>Christopher Nolan</th>\n",
       "      <td>4167548502</td>\n",
       "    </tr>\n",
       "    <tr>\n",
       "      <th>David Yates</th>\n",
       "      <td>4154295625</td>\n",
       "    </tr>\n",
       "    <tr>\n",
       "      <th>Michael Bay</th>\n",
       "      <td>3886938960</td>\n",
       "    </tr>\n",
       "    <tr>\n",
       "      <th>J.J. Abrams</th>\n",
       "      <td>3579169916</td>\n",
       "    </tr>\n",
       "    <tr>\n",
       "      <th>...</th>\n",
       "      <td>...</td>\n",
       "    </tr>\n",
       "    <tr>\n",
       "      <th>David MichÃ´d</th>\n",
       "      <td>2295423</td>\n",
       "    </tr>\n",
       "    <tr>\n",
       "      <th>Steven Shainberg</th>\n",
       "      <td>2281089</td>\n",
       "    </tr>\n",
       "    <tr>\n",
       "      <th>Paul Schrader</th>\n",
       "      <td>2062066</td>\n",
       "    </tr>\n",
       "    <tr>\n",
       "      <th>Keanu Reeves</th>\n",
       "      <td>2054941</td>\n",
       "    </tr>\n",
       "    <tr>\n",
       "      <th>Simon Hunter</th>\n",
       "      <td>2033165</td>\n",
       "    </tr>\n",
       "  </tbody>\n",
       "</table>\n",
       "<p>957 rows × 1 columns</p>\n",
       "</div>"
      ],
      "text/plain": [
       "                      revenue\n",
       "director                     \n",
       "Peter Jackson      6490593685\n",
       "Christopher Nolan  4167548502\n",
       "David Yates        4154295625\n",
       "Michael Bay        3886938960\n",
       "J.J. Abrams        3579169916\n",
       "...                       ...\n",
       "David MichÃ´d         2295423\n",
       "Steven Shainberg      2281089\n",
       "Paul Schrader         2062066\n",
       "Keanu Reeves          2054941\n",
       "Simon Hunter          2033165\n",
       "\n",
       "[957 rows x 1 columns]"
      ]
     },
     "metadata": {},
     "output_type": "display_data"
    }
   ],
   "source": [
    "max_revenue_director= pd.DataFrame(data.groupby(by = 'director').revenue.sum()).sort_values('revenue', ascending = False)\n",
    "display (max_revenue_director)"
   ]
  },
  {
   "cell_type": "markdown",
   "metadata": {
    "colab_type": "text",
    "id": "PsYC9FgRVp_a"
   },
   "source": [
    "# 14. Какой режисер снял больше всего фильмов в стиле Action?"
   ]
  },
  {
   "cell_type": "code",
   "execution_count": 37,
   "metadata": {
    "colab": {},
    "colab_type": "code",
    "id": "wd2M-wHeVp_b"
   },
   "outputs": [],
   "source": [
    "answers['14'] = 'Robert Rodriguez ' # +     "
   ]
  },
  {
   "cell_type": "code",
   "execution_count": 38,
   "metadata": {},
   "outputs": [
    {
     "name": "stdout",
     "output_type": "stream",
     "text": [
      "Robert Rodriguez      9\n",
      "Paul W.S. Anderson    7\n",
      "Michael Bay           7\n",
      "Ridley Scott          6\n",
      "Antoine Fuqua         6\n",
      "                     ..\n",
      "John Carpenter        1\n",
      "Wolfgang Petersen     1\n",
      "Andrew Stanton        1\n",
      "Paul McGuigan         1\n",
      "Betty Thomas          1\n",
      "Length: 364, dtype: int64\n"
     ]
    }
   ],
   "source": [
    "movie_bd = data[data['genres'].map(lambda x: True if 'Action' in x else False)] # Создаём датасет в котором только  фильмы в жанре Action\n",
    "sum_gen = counter(movie_bd ,'director')\n",
    "print(sum_gen)"
   ]
  },
  {
   "cell_type": "markdown",
   "metadata": {
    "colab_type": "text",
    "id": "PQ0KciD7Vp_f"
   },
   "source": [
    "# 15. Фильмы с каким актером принесли самые высокие кассовые сборы в 2012 году? "
   ]
  },
  {
   "cell_type": "code",
   "execution_count": 39,
   "metadata": {
    "colab": {},
    "colab_type": "code",
    "id": "aga62oeKVp_g"
   },
   "outputs": [],
   "source": [
    "answers['15'] = 'Chris Hemsworth' # +"
   ]
  },
  {
   "cell_type": "code",
   "execution_count": 40,
   "metadata": {},
   "outputs": [
    {
     "name": "stderr",
     "output_type": "stream",
     "text": [
      "C:\\anaconda3\\lib\\site-packages\\pandas\\core\\indexing.py:670: SettingWithCopyWarning: \n",
      "A value is trying to be set on a copy of a slice from a DataFrame\n",
      "\n",
      "See the caveats in the documentation: https://pandas.pydata.org/pandas-docs/stable/user_guide/indexing.html#returning-a-view-versus-a-copy\n",
      "  self._setitem_with_indexer(indexer, value)\n"
     ]
    },
    {
     "data": {
      "text/html": [
       "<div>\n",
       "<style scoped>\n",
       "    .dataframe tbody tr th:only-of-type {\n",
       "        vertical-align: middle;\n",
       "    }\n",
       "\n",
       "    .dataframe tbody tr th {\n",
       "        vertical-align: top;\n",
       "    }\n",
       "\n",
       "    .dataframe thead th {\n",
       "        text-align: right;\n",
       "    }\n",
       "</style>\n",
       "<table border=\"1\" class=\"dataframe\">\n",
       "  <thead>\n",
       "    <tr style=\"text-align: right;\">\n",
       "      <th></th>\n",
       "      <th>name</th>\n",
       "      <th>revenue</th>\n",
       "    </tr>\n",
       "  </thead>\n",
       "  <tbody>\n",
       "    <tr>\n",
       "      <th>4</th>\n",
       "      <td>Chris Hemsworth</td>\n",
       "      <td>2027450773</td>\n",
       "    </tr>\n",
       "    <tr>\n",
       "      <th>40</th>\n",
       "      <td>Denis Leary</td>\n",
       "      <td>1629460639</td>\n",
       "    </tr>\n",
       "    <tr>\n",
       "      <th>62</th>\n",
       "      <td>Anne Hathaway</td>\n",
       "      <td>1522851057</td>\n",
       "    </tr>\n",
       "    <tr>\n",
       "      <th>405</th>\n",
       "      <td>Chris Evans</td>\n",
       "      <td>1519557910</td>\n",
       "    </tr>\n",
       "    <tr>\n",
       "      <th>238</th>\n",
       "      <td>Robert Downey Jr.</td>\n",
       "      <td>1519557910</td>\n",
       "    </tr>\n",
       "    <tr>\n",
       "      <th>...</th>\n",
       "      <td>...</td>\n",
       "      <td>...</td>\n",
       "    </tr>\n",
       "    <tr>\n",
       "      <th>272</th>\n",
       "      <td>Michael Nyqvist</td>\n",
       "      <td>3428048</td>\n",
       "    </tr>\n",
       "    <tr>\n",
       "      <th>111</th>\n",
       "      <td>Danny Huston</td>\n",
       "      <td>2106557</td>\n",
       "    </tr>\n",
       "    <tr>\n",
       "      <th>425</th>\n",
       "      <td>Sami Gayle</td>\n",
       "      <td>2106557</td>\n",
       "    </tr>\n",
       "    <tr>\n",
       "      <th>363</th>\n",
       "      <td>Josh Lucas</td>\n",
       "      <td>2106557</td>\n",
       "    </tr>\n",
       "    <tr>\n",
       "      <th>131</th>\n",
       "      <td>Nicolas Cage</td>\n",
       "      <td>2106557</td>\n",
       "    </tr>\n",
       "  </tbody>\n",
       "</table>\n",
       "<p>466 rows × 2 columns</p>\n",
       "</div>"
      ],
      "text/plain": [
       "                  name     revenue\n",
       "4      Chris Hemsworth  2027450773\n",
       "40         Denis Leary  1629460639\n",
       "62       Anne Hathaway  1522851057\n",
       "405        Chris Evans  1519557910\n",
       "238  Robert Downey Jr.  1519557910\n",
       "..                 ...         ...\n",
       "272    Michael Nyqvist     3428048\n",
       "111       Danny Huston     2106557\n",
       "425         Sami Gayle     2106557\n",
       "363         Josh Lucas     2106557\n",
       "131       Nicolas Cage     2106557\n",
       "\n",
       "[466 rows x 2 columns]"
      ]
     },
     "execution_count": 40,
     "metadata": {},
     "output_type": "execute_result"
    }
   ],
   "source": [
    "all_2012_films = data[data.release_year == 2012].reset_index()\n",
    "actors = pd.DataFrame( counter (all_2012_films, 'cast').keys())\n",
    "actors['revenue'] = 0\n",
    "actors.columns = ['name','revenue']\n",
    "\n",
    "for i in range(0,len(actors.name)):\n",
    "    for j in range(0, len(all_2012_films.cast)):\n",
    "        if actors.name.iloc[i] in all_2012_films.cast.iloc[j]: \n",
    "            actors.revenue.iloc[i] += all_2012_films.revenue.iloc[j]\n",
    "actors.sort_values(by=['revenue'], ascending=False)"
   ]
  },
  {
   "cell_type": "code",
   "execution_count": 90,
   "metadata": {},
   "outputs": [
    {
     "data": {
      "text/plain": [
       "[('Chris Hemsworth', 2027450773),\n",
       " ('Denis Leary', 1629460639),\n",
       " ('Anne Hathaway', 1522851057),\n",
       " ('Robert Downey Jr.', 1519557910),\n",
       " ('Chris Evans', 1519557910),\n",
       " ('Mark Ruffalo', 1519557910),\n",
       " ('Scarlett Johansson', 1519557910),\n",
       " ('Ralph Fiennes', 1409561013),\n",
       " ('Sacha Baron Cohen', 1368110577),\n",
       " ('Kristen Stewart', 1234384318),\n",
       " ('Emma Thompson', 1163009983),\n",
       " ('Tom Hardy', 1134717867),\n",
       " ('Seann William Scott', 1112234366),\n",
       " ('Daniel Craig', 1108561013),\n",
       " ('Judi Dench', 1108561013),\n",
       " ('Javier Bardem', 1108561013),\n",
       " ('Naomie Harris', 1108561013),\n",
       " ('Josh Hutcherson', 1091710235),\n",
       " ('Christian Bale', 1081041287),\n",
       " ('Michael Caine', 1081041287),\n",
       " ('Gary Oldman', 1081041287),\n",
       " ('Ian McKellen', 1017003568),\n",
       " ('Martin Freeman', 1017003568),\n",
       " ('Richard Armitage', 1017003568),\n",
       " ('Andy Serkis', 1017003568),\n",
       " ('Cate Blanchett', 1017003568),\n",
       " ('John Leguizamo', 914138503),\n",
       " ('Jennifer Lawrence', 896949406),\n",
       " ('Ray Romano', 877244782),\n",
       " ('Chris Wedge', 877244782),\n",
       " ('Robert Pattinson', 835063556),\n",
       " ('Elizabeth Banks', 829566659),\n",
       " ('Taylor Lautner', 829000000),\n",
       " ('Peter Facinelli', 829000000),\n",
       " ('Elizabeth Reaser', 829000000),\n",
       " ('Rhys Ifans', 806125608),\n",
       " ('Charlize Theron', 799770142),\n",
       " ('Frances McDormand', 755060062),\n",
       " ('Andrew Garfield', 752215857),\n",
       " ('Emma Stone', 752215857),\n",
       " ('Martin Sheen', 752215857),\n",
       " ('Hugh Jackman', 748751440),\n",
       " ('Ben Stiller', 746921274),\n",
       " ('David Schwimmer', 746921274),\n",
       " ('Chris Rock', 746921274),\n",
       " ('Tommy Lee Jones', 738307827),\n",
       " ('Woody Harrelson', 710632953),\n",
       " ('Liam Hemsworth', 691210692),\n",
       " ('Liam Neeson', 677141306),\n",
       " ('Taylor Kitsch', 634164585),\n",
       " ('Will Smith', 624026776),\n",
       " ('Josh Brolin', 624026776),\n",
       " ('Michael Stuhlbarg', 624026776),\n",
       " ('Mark Wahlberg', 612468315),\n",
       " ('Giovanni Ribisi', 612468315),\n",
       " ('Suraj Sharma', 609016565),\n",
       " ('Irrfan Khan', 609016565),\n",
       " ('Ayush Tandon', 609016565),\n",
       " ('Gautam Belur', 609016565),\n",
       " ('Adil Hussain', 609016565),\n",
       " ('Billy Connolly', 598503505),\n",
       " ('Channing Tatum', 598294075),\n",
       " ('Mila Kunis', 549368315),\n",
       " ('Seth MacFarlane', 549368315),\n",
       " ('Joel McHale', 549368315),\n",
       " ('Bryan Cranston', 540910192),\n",
       " ('Kelly Macdonald', 538983207),\n",
       " ('Julie Walters', 538983207),\n",
       " ('Kevin McKidd', 538983207),\n",
       " ('Jane Lynch', 526042190),\n",
       " ('Rosamund Pike', 519340595),\n",
       " ('Guy Pearce', 489050752),\n",
       " ('John C. Reilly', 471222889),\n",
       " ('Sarah Silverman', 471222889),\n",
       " ('Jack McBrayer', 471222889),\n",
       " ('Jamie Elman', 471222889),\n",
       " ('Bruce Willis', 449378341),\n",
       " ('Kerry Washington', 447412515),\n",
       " ('Russell Crowe', 441809770),\n",
       " ('Amanda Seyfried', 441809770),\n",
       " ('Michael Fassbender', 436542748),\n",
       " ('Jamie Foxx', 425368238),\n",
       " ('Christoph Waltz', 425368238),\n",
       " ('Leonardo DiCaprio', 425368238),\n",
       " ('Samuel L. Jackson', 425368238),\n",
       " ('Mark Strong', 416959816),\n",
       " ('Adam Sandler', 416433970),\n",
       " ('CiarÃ¡n Hinds', 411869836),\n",
       " ('Maggie Grace', 408345336),\n",
       " ('Noomi Rapace', 403170142),\n",
       " ('Idris Elba', 403170142),\n",
       " ('Sam Claflin', 396600000),\n",
       " ('Ian McShane', 396600000),\n",
       " ('Kate Beckinsale', 394302074),\n",
       " ('Brooklyn Decker', 382725485),\n",
       " ('Famke Janssen', 376141306),\n",
       " ('Rade Serbedzija', 376141306),\n",
       " ('Luke Grimes', 376141306),\n",
       " ('Alec Baldwin', 366360283),\n",
       " ('Steve Buscemi', 358375603),\n",
       " ('David Spade', 358375603),\n",
       " ('Kevin James', 358375603),\n",
       " ('Selena Gomez', 358375603),\n",
       " ('Brendan Gleeson', 356072317),\n",
       " ('Dwayne Johnson', 355692760),\n",
       " ('Kristin Davis', 355692760),\n",
       " ('Vanessa Hudgens', 355692760),\n",
       " ('Luis GuzmÃ¡n', 355692760),\n",
       " ('Jason Statham', 352919609),\n",
       " ('Anna Kendrick', 350316209),\n",
       " ('Zac Efron', 348840316),\n",
       " ('Danny DeVito', 348840316),\n",
       " ('Taylor Swift', 348840316),\n",
       " ('Ed Helms', 348840316),\n",
       " ('Rob Riggle', 348840316),\n",
       " ('Sam Worthington', 347221189),\n",
       " ('Edward Norton', 344836104),\n",
       " ('Chris Pine', 319376448),\n",
       " ('Sylvester Stallone', 312573423),\n",
       " ('Dolph Lundgren', 312573423),\n",
       " ('Arnold Schwarzenegger', 312573423),\n",
       " ('Jude Law', 306941670),\n",
       " ('Isla Fisher', 306941670),\n",
       " ('Alexander SkarsgÃ¥rd', 303025485),\n",
       " ('Rihanna', 303025485),\n",
       " ('Tadanobu Asano', 303025485),\n",
       " ('Edgar RamÃ\\xadrez', 301000000),\n",
       " ('Lynn Collins', 284139100),\n",
       " ('Willem Dafoe', 284139100),\n",
       " ('Tom Cruise', 277759208),\n",
       " ('Jeremy Renner', 276572938),\n",
       " ('Rachel Weisz', 276572938),\n",
       " ('Scott Glenn', 276572938),\n",
       " ('Stacy Keach', 276572938),\n",
       " ('David Oyelowo', 268705972),\n",
       " ('Megan Fox', 267438319),\n",
       " ('Michelle Pfeiffer', 257961927),\n",
       " ('Johnny Depp', 245527149),\n",
       " ('Helena Bonham Carter', 245527149),\n",
       " ('Jackie Earle Haley', 245527149),\n",
       " ('Jonny Lee Miller', 245527149),\n",
       " ('Milla Jovovich', 240159255),\n",
       " ('Sienna Guillory', 240159255),\n",
       " ('Michelle Rodriguez', 240159255),\n",
       " ('Aryana Engineer', 240159255),\n",
       " ('Li Bingbing', 240159255),\n",
       " ('Jason Biggs', 234989584),\n",
       " ('Alyson Hannigan', 234989584),\n",
       " ('Chris Klein', 234989584),\n",
       " ('Thomas Ian Nicholas', 234989584),\n",
       " ('Ben Affleck', 232324128),\n",
       " ('Alan Arkin', 232324128),\n",
       " ('John Goodman', 232324128),\n",
       " ('Victor Garber', 232324128),\n",
       " ('Michael Ealy', 228470507),\n",
       " ('Bradley Cooper', 218970175),\n",
       " ('Richard Jenkins', 218340595),\n",
       " ('Werner Herzog', 218340595),\n",
       " ('Colin Farrell', 218224335),\n",
       " ('Ewan McGregor', 213646729),\n",
       " ('Denzel Washington', 208076205),\n",
       " ('Ryan Reynolds', 208076205),\n",
       " ('Vera Farmiga', 208076205),\n",
       " ('Joel Kinnaman', 208076205),\n",
       " ('Robert De Niro', 205738714),\n",
       " ('Jacki Weaver', 205738714),\n",
       " ('Chris Tucker', 205738714),\n",
       " ('Jonah Hill', 201585328),\n",
       " ('Brie Larson', 201585328),\n",
       " ('Dave Franco', 201585328),\n",
       " ('Ellie Kemper', 201585328),\n",
       " ('Jessica Biel', 198802074),\n",
       " ('Bill Nighy', 198802074),\n",
       " ('Rachel McAdams', 196114570),\n",
       " ('Sam Neill', 196114570),\n",
       " ('Scott Speedman', 196114570),\n",
       " ('Jessica Lange', 196114570),\n",
       " ('Chris Pratt', 186730467),\n",
       " ('Jessica Chastain', 186497296),\n",
       " ('Julia Roberts', 183018522),\n",
       " ('Lily Collins', 183018522),\n",
       " ('Armie Hammer', 183018522),\n",
       " ('Nathan Lane', 183018522),\n",
       " ('Martin Klebba', 183018522),\n",
       " ('Naomi Watts', 180274123),\n",
       " ('Tom Holland', 180274123),\n",
       " ('Samuel Joslin', 180274123),\n",
       " ('Oaklee Pendergast', 180274123),\n",
       " ('Sayed Badreya', 179379533),\n",
       " ('Aasif Mandvi', 179379533),\n",
       " ('Anna Faris', 179379533),\n",
       " ('Matthew McConaughey', 167221571),\n",
       " ('Olivia Munn', 167221571),\n",
       " ('Cody Horn', 167221571),\n",
       " ('Alex Pettyfer', 167221571),\n",
       " ('Salma Hayek', 165338361),\n",
       " ('Paul Rudd', 145618720),\n",
       " ('Dane DeHaan', 145000000),\n",
       " ('Alex Russell', 145000000),\n",
       " ('Michael B. Jordan', 145000000),\n",
       " ('Michael Kelly', 145000000),\n",
       " ('Anna Wood', 145000000),\n",
       " ('Katie Featherston', 142817992),\n",
       " ('Kathryn Newton', 142817992),\n",
       " ('Matt Shively', 142817992),\n",
       " ('Brady Allen', 142817992),\n",
       " ('Sprague Grayden', 142817992),\n",
       " ('Jason Segel', 141968537),\n",
       " ('Kathryn McCormick', 140470746),\n",
       " ('Ryan Guzman', 140470746),\n",
       " ('Stephen Boss', 140470746),\n",
       " ('Megan Boone', 140470746),\n",
       " ('Jessica Guadix', 140470746),\n",
       " ('Jim Sturgess', 138589343),\n",
       " ('Jason Clarke', 132820716),\n",
       " ('Joel Edgerton', 132820716),\n",
       " ('Stephen Rea', 132400000),\n",
       " ('Theo James', 132400000),\n",
       " ('India Eisley', 132400000),\n",
       " ('Tom Hanks', 130482868),\n",
       " ('Halle Berry', 130482868),\n",
       " ('Jim Broadbent', 130482868),\n",
       " ('Hugo Weaving', 130482868),\n",
       " ('Jeffrey Dean Morgan', 130252858),\n",
       " ('Daniel Radcliffe', 127730736),\n",
       " ('Sidney Johnston', 127730736),\n",
       " ('Alisa Khazanova', 127730736),\n",
       " ('Mary Stockley', 127730736),\n",
       " ('Billy Crystal', 119772232),\n",
       " ('Bette Midler', 119772232),\n",
       " ('Marisa Tomei', 119772232),\n",
       " ('Tom Everett Scott', 119772232),\n",
       " ('Bailee Madison', 119772232),\n",
       " ('Hugh Grant', 118338361),\n",
       " ('Jeremy Piven', 118338361),\n",
       " ('Brian Blessed', 118338361),\n",
       " ('Skylar Astin', 115350426),\n",
       " ('Brittany Snow', 115350426),\n",
       " ('Anna Camp', 115350426),\n",
       " ('Rebel Wilson', 115350426),\n",
       " ('Meryl Streep', 114281051),\n",
       " ('Steve Carell', 114281051),\n",
       " ('Jean Smart', 114281051),\n",
       " ('Marin Ireland', 114281051),\n",
       " ('Benjamin Walker', 112265139),\n",
       " ('Dominic Cooper', 112265139),\n",
       " ('Anthony Mackie', 112265139),\n",
       " ('Mary Elizabeth Winstead', 112265139),\n",
       " ('Rufus Sewell', 112265139),\n",
       " ('Kodi Smit-McPhee', 107139399),\n",
       " ('Tucker Albrizzi', 107139399),\n",
       " ('Jodelle Ferland', 107139399),\n",
       " ('Casey Affleck', 107139399),\n",
       " ('Emily Blunt', 100951751),\n",
       " ('Oliver Cooper', 100000000),\n",
       " ('Jonathan Daniel Brown', 100000000),\n",
       " ('Thomas Mann', 100000000),\n",
       " ('Dax Flame', 100000000),\n",
       " ('Kirby Bliss Blanton', 100000000),\n",
       " ('Jerry Ferrara', 96070507),\n",
       " ('Meagan Good', 96070507),\n",
       " ('Regina Hall', 96070507),\n",
       " ('Kevin Hart', 96070507),\n",
       " ('Susan Sarandon', 93543423),\n",
       " ('Leslie Mann', 88058786),\n",
       " ('Maude Apatow', 88058786),\n",
       " ('Natasha Calis', 85446075),\n",
       " ('Madison Davenport', 85446075),\n",
       " ('Kyra Sedgwick', 85446075),\n",
       " ('Rob LaBelle', 85446075),\n",
       " ('Charlie Tahan', 81491068),\n",
       " ('Winona Ryder', 81491068),\n",
       " (\"Catherine O'Hara\", 81491068),\n",
       " ('Martin Short', 81491068),\n",
       " ('Martin Landau', 81491068),\n",
       " ('Roselyn SÃ¡nchez', 81272766),\n",
       " ('Emilio Rivera', 81272766),\n",
       " ('Nestor Serrano', 81272766),\n",
       " ('Gonzalo Menendez', 81272766),\n",
       " ('Alexander Asefa', 81272766),\n",
       " ('Cameron Diaz', 79700000),\n",
       " ('Jennifer Lopez', 79700000),\n",
       " ('Joseph Gordon-Levitt', 78125599),\n",
       " ('Devon Bostick', 77112176),\n",
       " ('Steve Zahn', 77112176),\n",
       " ('Peyton List', 77112176),\n",
       " ('Rachael Harris', 77112176),\n",
       " ('Zachary Gordon', 77112176),\n",
       " ('Jared Gilman', 68263166),\n",
       " ('Kara Hayward', 68263166),\n",
       " ('Bill Murray', 68263166),\n",
       " ('Kristen Connolly', 66486080),\n",
       " ('Anna Hutchison', 66486080),\n",
       " ('Fran Kranz', 66486080),\n",
       " ('Jesse Williams', 66486080),\n",
       " ('Ben Foster', 63100000),\n",
       " ('J.K. Simmons', 63100000),\n",
       " ('Maggie Smith', 59520298),\n",
       " ('Tom Courtenay', 59520298),\n",
       " ('Pauline Collins', 59520298),\n",
       " ('Michael Gambon', 59520298),\n",
       " ('Diego Boneta', 59418613),\n",
       " ('Julianne Hough', 59418613),\n",
       " ('Eva Amurri Martino', 58058367),\n",
       " ('Leighton Meester', 58058367),\n",
       " ('Andy Samberg', 58058367),\n",
       " ('Sean Hayes', 54819301),\n",
       " ('Will Sasso', 54819301),\n",
       " ('Chris Diamantopoulos', 54819301),\n",
       " ('SofÃ\\xada Vergara', 54819301),\n",
       " ('Alison Brie', 53909751),\n",
       " ('Shia LaBeouf', 53676580),\n",
       " ('Mia Wasikowska', 53676580),\n",
       " ('Adelaide Clemens', 52302796),\n",
       " ('Kit Harington', 52302796),\n",
       " ('Sean Bean', 52302796),\n",
       " ('Carrie-Anne Moss', 52302796),\n",
       " ('Radha Mitchell', 52302796),\n",
       " ('Cuba Gooding Jr.', 50365377),\n",
       " ('Daniela Ruah', 50365377),\n",
       " ('Terrence Howard', 50365377),\n",
       " ('Jake Gyllenhaal', 48126384),\n",
       " ('Michael PeÃ±a', 48126384),\n",
       " ('Natalie Martinez', 48126384),\n",
       " ('David Harbour', 48126384),\n",
       " ('Paul Dano', 47042000),\n",
       " ('Noah Segan', 47042000),\n",
       " ('Blake Lively', 47000000),\n",
       " ('Aaron Taylor-Johnson', 47000000),\n",
       " ('Benicio del Toro', 47000000),\n",
       " ('Jamie Bell', 46221189),\n",
       " ('Ed Harris', 46221189),\n",
       " ('Edward Burns', 46221189),\n",
       " ('Isabel Lucas', 44806783),\n",
       " ('Adrianne Palicki', 44806783),\n",
       " ('Karl Urban', 41037742),\n",
       " ('Olivia Thirlby', 41037742),\n",
       " ('Lena Headey', 41037742),\n",
       " ('Wood Harris', 41037742),\n",
       " ('Jason Cope', 41037742),\n",
       " ('Chris Sarandon', 40346186),\n",
       " ('James Hong', 40346186),\n",
       " ('Catherine Chan', 40346186),\n",
       " ('Robert John Burke', 40346186),\n",
       " ('Brad Pitt', 37930465),\n",
       " ('Scoot McNairy', 37930465),\n",
       " ('Ben Mendelsohn', 37930465),\n",
       " ('James Gandolfini', 37930465),\n",
       " ('Ray Liotta', 37930465),\n",
       " ('Katherine Heigl', 36893721),\n",
       " ('Debbie Reynolds', 36893721),\n",
       " ('Sherri Shepherd', 36893721),\n",
       " ('Patrick Fischler', 36893721),\n",
       " ('Richard Gere', 35485056),\n",
       " ('Tim Roth', 35485056),\n",
       " ('Brit Marling', 35485056),\n",
       " ('Monica Raymund', 35485056),\n",
       " ('Logan Lerman', 33400000),\n",
       " ('Emma Watson', 33400000),\n",
       " ('Ezra Miller', 33400000),\n",
       " ('Nina Dobrev', 33400000),\n",
       " ('Gina Carano', 33372606),\n",
       " ('Bill Paxton', 33372606),\n",
       " ('John Krasinski', 32858003),\n",
       " ('Katy Perry', 32726956),\n",
       " ('Russell Brand', 32726956),\n",
       " ('Shannon Woodward', 32726956),\n",
       " ('Rachael Markarian', 32726956),\n",
       " ('Mia Moretti', 32726956),\n",
       " ('Joseph Gilgun', 32204030),\n",
       " ('Lennie James', 32204030),\n",
       " ('Peter Stormare', 32204030),\n",
       " ('Michael Shannon', 31083599),\n",
       " ('Dania Ramirez', 31083599),\n",
       " ('Jamie Chung', 31083599),\n",
       " ('WolÃ© Parks', 31083599),\n",
       " ('Tyler Perry', 30353232),\n",
       " ('Rachel Nichols', 30353232),\n",
       " ('Jean Reno', 30353232),\n",
       " ('Matthew Fox', 30353232),\n",
       " ('Giancarlo Esposito', 30353232),\n",
       " ('John Cusack', 29657751),\n",
       " ('Luke Evans', 29657751),\n",
       " ('Alice Eve', 29657751),\n",
       " ('Kevin McNally', 29657751),\n",
       " ('Joaquin Phoenix', 28258060),\n",
       " ('Philip Seymour Hoffman', 28258060),\n",
       " ('Amy Adams', 28258060),\n",
       " ('Laura Dern', 28258060),\n",
       " ('Jesse Plemons', 28258060),\n",
       " ('Malin Ã…kerman', 26266491),\n",
       " ('Olivia Wilde', 25666239),\n",
       " ('Drew Barrymore', 24719215),\n",
       " ('Kristen Bell', 24719215),\n",
       " ('Vinessa Shaw', 24719215),\n",
       " ('Dermot Mulroney', 24719215),\n",
       " ('Whitney Houston', 24637469),\n",
       " ('Cee Lo Green', 24637469),\n",
       " ('Derek Luke', 24637469),\n",
       " ('Mike Epps', 24637469),\n",
       " ('Carmen Ejogo', 24637469),\n",
       " ('Jennifer Aniston', 24159934),\n",
       " ('Justin Theroux', 24159934),\n",
       " ('Lauren Ambrose', 24159934),\n",
       " ('Eddie Murphy', 22044277),\n",
       " ('Allison Janney', 22044277),\n",
       " ('Cliff Curtis', 22044277),\n",
       " ('Clark Duke', 22044277),\n",
       " ('Sam Rockwell', 19422261),\n",
       " ('Christopher Walken', 19422261),\n",
       " ('Abbie Cornish', 19422261),\n",
       " ('Kirsten Dunst', 16890793),\n",
       " ('Henry Cavill', 16863583),\n",
       " ('VerÃ³nica Echegui', 16863583),\n",
       " ('Sigourney Weaver', 16863583),\n",
       " ('Caroline Goodall', 16863583),\n",
       " ('Zoe Saldana', 13231461),\n",
       " ('Jeremy Irons', 13231461),\n",
       " ('Dennis Quaid', 13231461),\n",
       " ('Mark Duplass', 12434778),\n",
       " ('Victoria Justice', 11417362),\n",
       " ('Jackson Nicoll', 11417362),\n",
       " ('Chelsea Handler', 11417362),\n",
       " ('Josh Pence', 11417362),\n",
       " ('Jane Levy', 11417362),\n",
       " ('Ashley Greene', 9627492),\n",
       " ('Sebastian Stan', 9627492),\n",
       " ('Tom Felton', 9627492),\n",
       " ('Julianna Guill', 9627492),\n",
       " ('Luke Pasqualino', 9627492),\n",
       " ('Eva Longoria', 9622846),\n",
       " ('Andy GarcÃ\\xada', 9622846),\n",
       " ('Oscar Isaac', 9622846),\n",
       " (\"Peter O'Toole\", 9622846),\n",
       " ('RubÃ©n Blades', 9622846),\n",
       " ('Garrett Hedlund', 8784318),\n",
       " ('Sam Riley', 8784318),\n",
       " ('Tom Sturridge', 8784318),\n",
       " ('Danielle Panabaker', 8493728),\n",
       " ('Matt Bush', 8493728),\n",
       " ('Katrina Bowden', 8493728),\n",
       " ('Jean-Luc Bilodeau', 8493728),\n",
       " ('David Koechner', 8493728),\n",
       " ('Matt Damon', 8138788),\n",
       " ('Rosemarie DeWitt', 8138788),\n",
       " ('Lucas Black', 8138788),\n",
       " ('Timothy Spall', 8106475),\n",
       " ('James Kidnie', 8106475),\n",
       " ('Heidi Hawkins', 8106475),\n",
       " ('Sarah Gadon', 6063556),\n",
       " ('Juliette Binoche', 6063556),\n",
       " ('Paul Giamatti', 6063556),\n",
       " ('Samantha Morton', 6063556),\n",
       " ('Josh Duhamel', 4636169),\n",
       " ('Rosario Dawson', 4636169),\n",
       " (\"Vincent D'Onofrio\", 4636169),\n",
       " ('50 Cent', 4636169),\n",
       " ('Jason Bateman', 3428048),\n",
       " ('Hope Davis', 3428048),\n",
       " ('Frank Grillo', 3428048),\n",
       " ('Paula Patton', 3428048),\n",
       " ('Michael Nyqvist', 3428048),\n",
       " ('Nicolas Cage', 2106557),\n",
       " ('Josh Lucas', 2106557),\n",
       " ('Sami Gayle', 2106557),\n",
       " ('Danny Huston', 2106557)]"
      ]
     },
     "execution_count": 90,
     "metadata": {},
     "output_type": "execute_result"
    }
   ],
   "source": [
    "new_data = data[data['release_year'] == 2012]\n",
    "count = Counter()\n",
    "for i in range(0, len(new_data)):\n",
    "    for k in new_data.iloc[i]['cast'].split('|'):\n",
    "        count[k] += new_data.iloc[i]['revenue']\n",
    "count.most_common()"
   ]
  },
  {
   "cell_type": "markdown",
   "metadata": {
    "colab_type": "text",
    "id": "mWHyyL7QVp_j"
   },
   "source": [
    "# 16. Какой актер снялся в большем количестве высокобюджетных фильмов?"
   ]
  },
  {
   "cell_type": "code",
   "execution_count": 42,
   "metadata": {},
   "outputs": [],
   "source": [
    "answers['16'] = 'Matt Damon'  # +    "
   ]
  },
  {
   "cell_type": "code",
   "execution_count": 43,
   "metadata": {
    "colab": {},
    "colab_type": "code",
    "id": "qQtmHKTFVp_k"
   },
   "outputs": [
    {
     "name": "stdout",
     "output_type": "stream",
     "text": [
      "Matt Damon               18\n",
      "Adam Sandler             17\n",
      "Angelina Jolie           16\n",
      "Eddie Murphy             15\n",
      "Tom Cruise               15\n",
      "                         ..\n",
      "Christopher Eccleston     1\n",
      "Jack Reynor               1\n",
      "Venus Schultheis          1\n",
      "Emilio EchevarrÃ­a        1\n",
      "Jason Alexander           1\n",
      "Length: 1505, dtype: int64\n"
     ]
    }
   ],
   "source": [
    "film_budget = data[data.budget>data['budget'].mean()].reset_index() # Создаём датасет в котором только фильмы с бэджетом выше среднего\n",
    "sum_actors = counter(film_budget ,'cast')#  с помощью функции counter подсчитываем  в скальких фильмах снялся каждый актер \n",
    "print(sum_actors)"
   ]
  },
  {
   "cell_type": "markdown",
   "metadata": {
    "colab_type": "text",
    "id": "NIh6AaW5Vp_n"
   },
   "source": [
    "# 17. В фильмах какого жанра больше всего снимался Nicolas Cage? "
   ]
  },
  {
   "cell_type": "code",
   "execution_count": 44,
   "metadata": {},
   "outputs": [],
   "source": [
    "answers['17'] = 'Action'   # +"
   ]
  },
  {
   "cell_type": "code",
   "execution_count": 45,
   "metadata": {
    "colab": {},
    "colab_type": "code",
    "id": "H74SJDIBVp_n"
   },
   "outputs": [
    {
     "name": "stdout",
     "output_type": "stream",
     "text": [
      "Action             17\n",
      "Thriller           15\n",
      "Drama              12\n",
      "Crime              10\n",
      "Fantasy             8\n",
      "Adventure           7\n",
      "Comedy              6\n",
      "Science Fiction     4\n",
      "Mystery             3\n",
      "Animation           3\n",
      "Family              3\n",
      "History             2\n",
      "War                 1\n",
      "Romance             1\n",
      "Horror              1\n",
      "dtype: int64\n"
     ]
    }
   ],
   "source": [
    "Nicolas_Cage = data[data['cast'].map(lambda x: True if 'Nicolas Cage' in x else False)] # Создаём датасет в котором только  фильмы в жанре Action\n",
    "sum_Nicolas = counter(Nicolas_Cage ,'genres')#  с помощью функции counter подсчитываем  фильмы по жанрам \n",
    "print(sum_Nicolas)"
   ]
  },
  {
   "cell_type": "code",
   "execution_count": 46,
   "metadata": {},
   "outputs": [
    {
     "data": {
      "text/plain": [
       "[('Action', 17),\n",
       " ('Thriller', 15),\n",
       " ('Drama', 12),\n",
       " ('Crime', 10),\n",
       " ('Fantasy', 8),\n",
       " ('Adventure', 7),\n",
       " ('Comedy', 6),\n",
       " ('Science Fiction', 4),\n",
       " ('Mystery', 3),\n",
       " ('Animation', 3),\n",
       " ('Family', 3),\n",
       " ('History', 2),\n",
       " ('War', 1),\n",
       " ('Horror', 1),\n",
       " ('Romance', 1)]"
      ]
     },
     "metadata": {},
     "output_type": "display_data"
    }
   ],
   "source": [
    "count_genres = Counter()\n",
    "for x in data.loc[data['cast'].map(lambda x: True if 'Nicolas Cage' in x else False)]['genres'].str.split('|'):\n",
    "    count_genres+=Counter(x)\n",
    "display(count_genres.most_common())"
   ]
  },
  {
   "cell_type": "markdown",
   "metadata": {
    "colab_type": "text",
    "id": "RqOmPRfWVp_q"
   },
   "source": [
    "# 18. Самый убыточный фильм от Paramount Pictures"
   ]
  },
  {
   "cell_type": "code",
   "execution_count": 47,
   "metadata": {},
   "outputs": [],
   "source": [
    "answers['18']   = 'K-19: The Widowmaker' # +"
   ]
  },
  {
   "cell_type": "code",
   "execution_count": 48,
   "metadata": {
    "colab": {},
    "colab_type": "code",
    "id": "9E_B0Y96Vp_r"
   },
   "outputs": [
    {
     "data": {
      "text/html": [
       "<div>\n",
       "<style scoped>\n",
       "    .dataframe tbody tr th:only-of-type {\n",
       "        vertical-align: middle;\n",
       "    }\n",
       "\n",
       "    .dataframe tbody tr th {\n",
       "        vertical-align: top;\n",
       "    }\n",
       "\n",
       "    .dataframe thead th {\n",
       "        text-align: right;\n",
       "    }\n",
       "</style>\n",
       "<table border=\"1\" class=\"dataframe\">\n",
       "  <thead>\n",
       "    <tr style=\"text-align: right;\">\n",
       "      <th></th>\n",
       "      <th>profit</th>\n",
       "    </tr>\n",
       "    <tr>\n",
       "      <th>original_title</th>\n",
       "      <th></th>\n",
       "    </tr>\n",
       "  </thead>\n",
       "  <tbody>\n",
       "    <tr>\n",
       "      <th>K-19: The Widowmaker</th>\n",
       "      <td>-64831034</td>\n",
       "    </tr>\n",
       "    <tr>\n",
       "      <th>Timeline</th>\n",
       "      <td>-60519261</td>\n",
       "    </tr>\n",
       "    <tr>\n",
       "      <th>Next</th>\n",
       "      <td>-51788987</td>\n",
       "    </tr>\n",
       "    <tr>\n",
       "      <th>Alfie</th>\n",
       "      <td>-46604061</td>\n",
       "    </tr>\n",
       "    <tr>\n",
       "      <th>Twisted</th>\n",
       "      <td>-24805000</td>\n",
       "    </tr>\n",
       "    <tr>\n",
       "      <th>...</th>\n",
       "      <td>...</td>\n",
       "    </tr>\n",
       "    <tr>\n",
       "      <th>Mission: Impossible - Ghost Protocol</th>\n",
       "      <td>549713380</td>\n",
       "    </tr>\n",
       "    <tr>\n",
       "      <th>Transformers</th>\n",
       "      <td>559709780</td>\n",
       "    </tr>\n",
       "    <tr>\n",
       "      <th>Indiana Jones and the Kingdom of the Crystal Skull</th>\n",
       "      <td>601636033</td>\n",
       "    </tr>\n",
       "    <tr>\n",
       "      <th>Transformers: Revenge of the Fallen</th>\n",
       "      <td>686297228</td>\n",
       "    </tr>\n",
       "    <tr>\n",
       "      <th>Transformers: Dark of the Moon</th>\n",
       "      <td>928746996</td>\n",
       "    </tr>\n",
       "  </tbody>\n",
       "</table>\n",
       "<p>122 rows × 1 columns</p>\n",
       "</div>"
      ],
      "text/plain": [
       "                                                       profit\n",
       "original_title                                               \n",
       "K-19: The Widowmaker                                -64831034\n",
       "Timeline                                            -60519261\n",
       "Next                                                -51788987\n",
       "Alfie                                               -46604061\n",
       "Twisted                                             -24805000\n",
       "...                                                       ...\n",
       "Mission: Impossible - Ghost Protocol                549713380\n",
       "Transformers                                        559709780\n",
       "Indiana Jones and the Kingdom of the Crystal Skull  601636033\n",
       "Transformers: Revenge of the Fallen                 686297228\n",
       "Transformers: Dark of the Moon                      928746996\n",
       "\n",
       "[122 rows x 1 columns]"
      ]
     },
     "execution_count": 48,
     "metadata": {},
     "output_type": "execute_result"
    }
   ],
   "source": [
    "Paramounts_fail = data[data['production_companies'].map(lambda x: True if 'Paramount Pictures' in x else False)]\n",
    "Paramounts_fail.groupby(['original_title'])[['profit']].max().sort_values(['profit'],ascending=True)"
   ]
  },
  {
   "cell_type": "markdown",
   "metadata": {
    "colab_type": "text",
    "id": "vS8Ur6ddVp_u"
   },
   "source": [
    "# 19. Какой год стал самым успешным по суммарным кассовым сборам?"
   ]
  },
  {
   "cell_type": "code",
   "execution_count": 49,
   "metadata": {},
   "outputs": [],
   "source": [
    "answers['19']   = '2015' # +"
   ]
  },
  {
   "cell_type": "code",
   "execution_count": 50,
   "metadata": {
    "colab": {},
    "colab_type": "code",
    "id": "Dnbt4GdIVp_v"
   },
   "outputs": [
    {
     "data": {
      "text/html": [
       "<div>\n",
       "<style scoped>\n",
       "    .dataframe tbody tr th:only-of-type {\n",
       "        vertical-align: middle;\n",
       "    }\n",
       "\n",
       "    .dataframe tbody tr th {\n",
       "        vertical-align: top;\n",
       "    }\n",
       "\n",
       "    .dataframe thead th {\n",
       "        text-align: right;\n",
       "    }\n",
       "</style>\n",
       "<table border=\"1\" class=\"dataframe\">\n",
       "  <thead>\n",
       "    <tr style=\"text-align: right;\">\n",
       "      <th></th>\n",
       "      <th>revenue</th>\n",
       "    </tr>\n",
       "    <tr>\n",
       "      <th>release_year</th>\n",
       "      <th></th>\n",
       "    </tr>\n",
       "  </thead>\n",
       "  <tbody>\n",
       "    <tr>\n",
       "      <th>2015</th>\n",
       "      <td>25449202382</td>\n",
       "    </tr>\n",
       "    <tr>\n",
       "      <th>2014</th>\n",
       "      <td>23405862953</td>\n",
       "    </tr>\n",
       "    <tr>\n",
       "      <th>2013</th>\n",
       "      <td>23213799791</td>\n",
       "    </tr>\n",
       "    <tr>\n",
       "      <th>2012</th>\n",
       "      <td>23079001687</td>\n",
       "    </tr>\n",
       "    <tr>\n",
       "      <th>2011</th>\n",
       "      <td>22676791872</td>\n",
       "    </tr>\n",
       "    <tr>\n",
       "      <th>2010</th>\n",
       "      <td>21071204961</td>\n",
       "    </tr>\n",
       "    <tr>\n",
       "      <th>2009</th>\n",
       "      <td>20261791024</td>\n",
       "    </tr>\n",
       "    <tr>\n",
       "      <th>2008</th>\n",
       "      <td>18252781990</td>\n",
       "    </tr>\n",
       "    <tr>\n",
       "      <th>2007</th>\n",
       "      <td>18162406801</td>\n",
       "    </tr>\n",
       "    <tr>\n",
       "      <th>2004</th>\n",
       "      <td>15663430720</td>\n",
       "    </tr>\n",
       "    <tr>\n",
       "      <th>2005</th>\n",
       "      <td>15309425558</td>\n",
       "    </tr>\n",
       "    <tr>\n",
       "      <th>2006</th>\n",
       "      <td>14775042320</td>\n",
       "    </tr>\n",
       "    <tr>\n",
       "      <th>2003</th>\n",
       "      <td>14346123312</td>\n",
       "    </tr>\n",
       "    <tr>\n",
       "      <th>2002</th>\n",
       "      <td>14136361487</td>\n",
       "    </tr>\n",
       "    <tr>\n",
       "      <th>2001</th>\n",
       "      <td>13017764865</td>\n",
       "    </tr>\n",
       "    <tr>\n",
       "      <th>2000</th>\n",
       "      <td>10664099805</td>\n",
       "    </tr>\n",
       "  </tbody>\n",
       "</table>\n",
       "</div>"
      ],
      "text/plain": [
       "                  revenue\n",
       "release_year             \n",
       "2015          25449202382\n",
       "2014          23405862953\n",
       "2013          23213799791\n",
       "2012          23079001687\n",
       "2011          22676791872\n",
       "2010          21071204961\n",
       "2009          20261791024\n",
       "2008          18252781990\n",
       "2007          18162406801\n",
       "2004          15663430720\n",
       "2005          15309425558\n",
       "2006          14775042320\n",
       "2003          14346123312\n",
       "2002          14136361487\n",
       "2001          13017764865\n",
       "2000          10664099805"
      ]
     },
     "metadata": {},
     "output_type": "display_data"
    }
   ],
   "source": [
    "max_revenue_year= pd.DataFrame(data.groupby(by = 'release_year').revenue.sum()).sort_values('revenue', ascending = False)\n",
    "display (max_revenue_year)"
   ]
  },
  {
   "cell_type": "markdown",
   "metadata": {
    "colab_type": "text",
    "id": "JAzJh4QAVp_z"
   },
   "source": [
    "# 20. Какой самый прибыльный год для студии Warner Bros?"
   ]
  },
  {
   "cell_type": "code",
   "execution_count": 51,
   "metadata": {},
   "outputs": [],
   "source": [
    "answers['20']   = '2014' # +"
   ]
  },
  {
   "cell_type": "code",
   "execution_count": 52,
   "metadata": {
    "colab": {},
    "colab_type": "code",
    "id": "wgVu02DEVp_0"
   },
   "outputs": [
    {
     "data": {
      "text/html": [
       "<div>\n",
       "<style scoped>\n",
       "    .dataframe tbody tr th:only-of-type {\n",
       "        vertical-align: middle;\n",
       "    }\n",
       "\n",
       "    .dataframe tbody tr th {\n",
       "        vertical-align: top;\n",
       "    }\n",
       "\n",
       "    .dataframe thead th {\n",
       "        text-align: right;\n",
       "    }\n",
       "</style>\n",
       "<table border=\"1\" class=\"dataframe\">\n",
       "  <thead>\n",
       "    <tr style=\"text-align: right;\">\n",
       "      <th></th>\n",
       "      <th>profit</th>\n",
       "    </tr>\n",
       "    <tr>\n",
       "      <th>release_year</th>\n",
       "      <th></th>\n",
       "    </tr>\n",
       "  </thead>\n",
       "  <tbody>\n",
       "    <tr>\n",
       "      <th>2014</th>\n",
       "      <td>2295464519</td>\n",
       "    </tr>\n",
       "    <tr>\n",
       "      <th>2007</th>\n",
       "      <td>2201675217</td>\n",
       "    </tr>\n",
       "    <tr>\n",
       "      <th>2008</th>\n",
       "      <td>2134595031</td>\n",
       "    </tr>\n",
       "    <tr>\n",
       "      <th>2010</th>\n",
       "      <td>1974712985</td>\n",
       "    </tr>\n",
       "    <tr>\n",
       "      <th>2011</th>\n",
       "      <td>1871393682</td>\n",
       "    </tr>\n",
       "  </tbody>\n",
       "</table>\n",
       "</div>"
      ],
      "text/plain": [
       "                  profit\n",
       "release_year            \n",
       "2014          2295464519\n",
       "2007          2201675217\n",
       "2008          2134595031\n",
       "2010          1974712985\n",
       "2011          1871393682"
      ]
     },
     "metadata": {},
     "output_type": "display_data"
    }
   ],
   "source": [
    "Warner_Bros_win = data[data['production_companies'].map(lambda x: True if 'Warner Bros' in x else False)] # Создаём датасет в котором только  фильмы Warner Bros\n",
    "Warner_Bros_win=pd.DataFrame(Warner_Bros_win.groupby(by = 'release_year').profit.sum()).sort_values('profit', ascending = False).head()#  с помощью функции counter подсчитываем  фильмы по жанрам \n",
    "display (Warner_Bros_win)"
   ]
  },
  {
   "cell_type": "markdown",
   "metadata": {
    "colab_type": "text",
    "id": "8Im1S2HRVp_4"
   },
   "source": [
    "# 21. В каком месяце за все годы суммарно вышло больше всего фильмов?"
   ]
  },
  {
   "cell_type": "code",
   "execution_count": 53,
   "metadata": {},
   "outputs": [],
   "source": [
    "answers['21']   = '9' # +"
   ]
  },
  {
   "cell_type": "code",
   "execution_count": 54,
   "metadata": {
    "colab": {},
    "colab_type": "code",
    "id": "lev6TH7gVp_4"
   },
   "outputs": [
    {
     "data": {
      "text/plain": [
       "9     227\n",
       "12    190\n",
       "10    186\n",
       "8     161\n",
       "3     156\n",
       "4     149\n",
       "6     147\n",
       "11    146\n",
       "7     142\n",
       "5     140\n",
       "2     135\n",
       "1     110\n",
       "Name: release_date, dtype: int64"
      ]
     },
     "execution_count": 54,
     "metadata": {},
     "output_type": "execute_result"
    }
   ],
   "source": [
    "data['release_date'] = pd.to_datetime(data['release_date'])\n",
    "data['release_date'].map(lambda x:  x.month).value_counts()"
   ]
  },
  {
   "cell_type": "markdown",
   "metadata": {
    "colab_type": "text",
    "id": "uAJsZ_NeVp_7"
   },
   "source": [
    "# 22. Сколько суммарно вышло фильмов летом? (за июнь, июль, август)"
   ]
  },
  {
   "cell_type": "code",
   "execution_count": 55,
   "metadata": {},
   "outputs": [],
   "source": [
    "answers['22']   = '450' # +"
   ]
  },
  {
   "cell_type": "code",
   "execution_count": 56,
   "metadata": {
    "colab": {},
    "colab_type": "code",
    "id": "Aa-hEREoVp_8"
   },
   "outputs": [
    {
     "name": "stdout",
     "output_type": "stream",
     "text": [
      "450\n"
     ]
    }
   ],
   "source": [
    "data ['mounth'] = data['release_date'].map(lambda x:  x.month)\n",
    "w=0\n",
    "for x in data ['mounth']:\n",
    "    if 6<=x<=8:\n",
    "        w+=1\n",
    "print (w)"
   ]
  },
  {
   "cell_type": "markdown",
   "metadata": {
    "colab_type": "text",
    "id": "G94ppOY1VqAA"
   },
   "source": [
    "# 23. Для какого режиссера зима – самое продуктивное время года? "
   ]
  },
  {
   "cell_type": "code",
   "execution_count": 57,
   "metadata": {},
   "outputs": [],
   "source": [
    "answers['23']   = 'Peter Jackson' # +"
   ]
  },
  {
   "cell_type": "code",
   "execution_count": 58,
   "metadata": {
    "colab": {},
    "colab_type": "code",
    "id": "RhNTsamuVqAB"
   },
   "outputs": [
    {
     "name": "stdout",
     "output_type": "stream",
     "text": [
      "[('Peter Jackson', 7), ('Clint Eastwood', 6), ('Steven Soderbergh', 6)]\n"
     ]
    }
   ],
   "source": [
    "from collections import Counter\n",
    "data ['mounth'] = data['release_date'].map(lambda x:  x.month)\n",
    "genres = data[(data ['mounth'] == 12) | (data ['mounth'] == 1) | (data ['mounth'] == 2)]['director'].to_list()\n",
    "films = Counter()\n",
    "for i in genres:\n",
    "    for j in i.split('|'):\n",
    "        films[j] += 1\n",
    "print(films.most_common(3))"
   ]
  },
  {
   "cell_type": "markdown",
   "metadata": {
    "colab_type": "text",
    "id": "RBo0JVjVVqAF"
   },
   "source": [
    "# 24. Какая студия дает самые длинные названия своим фильмам по количеству символов?"
   ]
  },
  {
   "cell_type": "code",
   "execution_count": 59,
   "metadata": {},
   "outputs": [],
   "source": [
    "answers['24']   = 'Four By Two Productions' # +"
   ]
  },
  {
   "cell_type": "code",
   "execution_count": 60,
   "metadata": {
    "colab": {},
    "colab_type": "code",
    "id": "QRGS8L0iVqAG"
   },
   "outputs": [
    {
     "data": {
      "text/html": [
       "<div>\n",
       "<style scoped>\n",
       "    .dataframe tbody tr th:only-of-type {\n",
       "        vertical-align: middle;\n",
       "    }\n",
       "\n",
       "    .dataframe tbody tr th {\n",
       "        vertical-align: top;\n",
       "    }\n",
       "\n",
       "    .dataframe thead th {\n",
       "        text-align: right;\n",
       "    }\n",
       "</style>\n",
       "<table border=\"1\" class=\"dataframe\">\n",
       "  <thead>\n",
       "    <tr style=\"text-align: right;\">\n",
       "      <th></th>\n",
       "      <th>0</th>\n",
       "    </tr>\n",
       "  </thead>\n",
       "  <tbody>\n",
       "    <tr>\n",
       "      <th>Four By Two Productions</th>\n",
       "      <td>12</td>\n",
       "    </tr>\n",
       "    <tr>\n",
       "      <th>Jim Henson Company, The</th>\n",
       "      <td>10</td>\n",
       "    </tr>\n",
       "    <tr>\n",
       "      <th>Dos Corazones</th>\n",
       "      <td>9</td>\n",
       "    </tr>\n",
       "    <tr>\n",
       "      <th>Polsky Films</th>\n",
       "      <td>9</td>\n",
       "    </tr>\n",
       "    <tr>\n",
       "      <th>The Saul Zaentz Company</th>\n",
       "      <td>9</td>\n",
       "    </tr>\n",
       "    <tr>\n",
       "      <th>...</th>\n",
       "      <td>...</td>\n",
       "    </tr>\n",
       "    <tr>\n",
       "      <th>Laika Entertainment</th>\n",
       "      <td>1</td>\n",
       "    </tr>\n",
       "    <tr>\n",
       "      <th>Helena Productions</th>\n",
       "      <td>1</td>\n",
       "    </tr>\n",
       "    <tr>\n",
       "      <th>Gulfstream Pictures</th>\n",
       "      <td>1</td>\n",
       "    </tr>\n",
       "    <tr>\n",
       "      <th>Sony Pictures Classics</th>\n",
       "      <td>1</td>\n",
       "    </tr>\n",
       "    <tr>\n",
       "      <th>Alliance Atlantis Communications</th>\n",
       "      <td>1</td>\n",
       "    </tr>\n",
       "  </tbody>\n",
       "</table>\n",
       "<p>1771 rows × 1 columns</p>\n",
       "</div>"
      ],
      "text/plain": [
       "                                   0\n",
       "Four By Two Productions           12\n",
       "Jim Henson Company, The           10\n",
       "Dos Corazones                      9\n",
       "Polsky Films                       9\n",
       "The Saul Zaentz Company            9\n",
       "...                               ..\n",
       "Laika Entertainment                1\n",
       "Helena Productions                 1\n",
       "Gulfstream Pictures                1\n",
       "Sony Pictures Classics             1\n",
       "Alliance Atlantis Communications   1\n",
       "\n",
       "[1771 rows x 1 columns]"
      ]
     },
     "metadata": {},
     "output_type": "display_data"
    }
   ],
   "source": [
    "data['long']=data['original_title'].str.count('')\n",
    "data['title_words_length'] = data.original_title.map(lambda x: len(x.split(' ')))\n",
    "sum_gen=counter(data,'production_companies')\n",
    "for gen in sum_gen.index:\n",
    "    sum_gen[gen] = data['title_words_length'][data['production_companies'].map(lambda x: True if gen in x else False)].mean()\n",
    "sum_gen = pd.DataFrame(sum_gen).sort_values(0, ascending=False)\n",
    "display (sum_gen)"
   ]
  },
  {
   "cell_type": "markdown",
   "metadata": {
    "colab_type": "text",
    "id": "9G0hbvR7VqAK"
   },
   "source": [
    "# 25. Описание фильмов какой студии в среднем самые длинные по количеству слов?"
   ]
  },
  {
   "cell_type": "code",
   "execution_count": 61,
   "metadata": {},
   "outputs": [],
   "source": [
    "answers['25']   = 'Midnight Picture Show' # +"
   ]
  },
  {
   "cell_type": "code",
   "execution_count": 62,
   "metadata": {
    "colab": {},
    "colab_type": "code",
    "id": "Ge2GsLNxVqAK"
   },
   "outputs": [
    {
     "data": {
      "text/html": [
       "<div>\n",
       "<style scoped>\n",
       "    .dataframe tbody tr th:only-of-type {\n",
       "        vertical-align: middle;\n",
       "    }\n",
       "\n",
       "    .dataframe tbody tr th {\n",
       "        vertical-align: top;\n",
       "    }\n",
       "\n",
       "    .dataframe thead th {\n",
       "        text-align: right;\n",
       "    }\n",
       "</style>\n",
       "<table border=\"1\" class=\"dataframe\">\n",
       "  <thead>\n",
       "    <tr style=\"text-align: right;\">\n",
       "      <th></th>\n",
       "      <th>0</th>\n",
       "    </tr>\n",
       "  </thead>\n",
       "  <tbody>\n",
       "    <tr>\n",
       "      <th>Midnight Picture Show</th>\n",
       "      <td>175</td>\n",
       "    </tr>\n",
       "    <tr>\n",
       "      <th>Room 9 Entertainment</th>\n",
       "      <td>161</td>\n",
       "    </tr>\n",
       "    <tr>\n",
       "      <th>Heineken Branded Entertainment</th>\n",
       "      <td>161</td>\n",
       "    </tr>\n",
       "    <tr>\n",
       "      <th>98 MPH Productions</th>\n",
       "      <td>159</td>\n",
       "    </tr>\n",
       "    <tr>\n",
       "      <th>Brookwell-McNamara Entertainment</th>\n",
       "      <td>156</td>\n",
       "    </tr>\n",
       "    <tr>\n",
       "      <th>...</th>\n",
       "      <td>...</td>\n",
       "    </tr>\n",
       "    <tr>\n",
       "      <th>London Boulevard</th>\n",
       "      <td>13</td>\n",
       "    </tr>\n",
       "    <tr>\n",
       "      <th>TDJ Enterprises / New Dimensions Entertainment</th>\n",
       "      <td>13</td>\n",
       "    </tr>\n",
       "    <tr>\n",
       "      <th>Our Stories Films</th>\n",
       "      <td>13</td>\n",
       "    </tr>\n",
       "    <tr>\n",
       "      <th>Empire Pictures</th>\n",
       "      <td>11</td>\n",
       "    </tr>\n",
       "    <tr>\n",
       "      <th>Motion Picture Corporation of America</th>\n",
       "      <td>11</td>\n",
       "    </tr>\n",
       "  </tbody>\n",
       "</table>\n",
       "<p>1771 rows × 1 columns</p>\n",
       "</div>"
      ],
      "text/plain": [
       "                                                  0\n",
       "Midnight Picture Show                           175\n",
       "Room 9 Entertainment                            161\n",
       "Heineken Branded Entertainment                  161\n",
       "98 MPH Productions                              159\n",
       "Brookwell-McNamara Entertainment                156\n",
       "...                                             ...\n",
       "London Boulevard                                 13\n",
       "TDJ Enterprises / New Dimensions Entertainment   13\n",
       "Our Stories Films                                13\n",
       "Empire Pictures                                  11\n",
       "Motion Picture Corporation of America            11\n",
       "\n",
       "[1771 rows x 1 columns]"
      ]
     },
     "metadata": {},
     "output_type": "display_data"
    }
   ],
   "source": [
    "data['overview_length'] = data.overview.map(lambda x: len(x.split(' ')))\n",
    "sum_gen=counter(data,'production_companies')\n",
    "for gen in sum_gen.index:\n",
    "    sum_gen[gen] = data['overview_length'][data['production_companies'].map(lambda x: True if gen in x else False)].mean()\n",
    "sum_gen = pd.DataFrame(sum_gen).sort_values(0, ascending=False)\n",
    "display (sum_gen)"
   ]
  },
  {
   "cell_type": "markdown",
   "metadata": {
    "colab_type": "text",
    "id": "FJ1AFt90VqAP"
   },
   "source": [
    "# 26. Какие фильмы входят в 1 процент лучших по рейтингу? \n",
    "по vote_average"
   ]
  },
  {
   "cell_type": "code",
   "execution_count": 63,
   "metadata": {
    "colab": {},
    "colab_type": "code",
    "id": "8qmJVq4CVqAQ"
   },
   "outputs": [
    {
     "data": {
      "text/html": [
       "<div>\n",
       "<style scoped>\n",
       "    .dataframe tbody tr th:only-of-type {\n",
       "        vertical-align: middle;\n",
       "    }\n",
       "\n",
       "    .dataframe tbody tr th {\n",
       "        vertical-align: top;\n",
       "    }\n",
       "\n",
       "    .dataframe thead th {\n",
       "        text-align: right;\n",
       "    }\n",
       "</style>\n",
       "<table border=\"1\" class=\"dataframe\">\n",
       "  <thead>\n",
       "    <tr style=\"text-align: right;\">\n",
       "      <th></th>\n",
       "      <th>imdb_id</th>\n",
       "      <th>original_title</th>\n",
       "      <th>vote_average</th>\n",
       "    </tr>\n",
       "  </thead>\n",
       "  <tbody>\n",
       "    <tr>\n",
       "      <th>9</th>\n",
       "      <td>tt2096673</td>\n",
       "      <td>Inside Out</td>\n",
       "      <td>8.0</td>\n",
       "    </tr>\n",
       "    <tr>\n",
       "      <th>34</th>\n",
       "      <td>tt3170832</td>\n",
       "      <td>Room</td>\n",
       "      <td>8.0</td>\n",
       "    </tr>\n",
       "    <tr>\n",
       "      <th>118</th>\n",
       "      <td>tt0816692</td>\n",
       "      <td>Interstellar</td>\n",
       "      <td>8.0</td>\n",
       "    </tr>\n",
       "    <tr>\n",
       "      <th>119</th>\n",
       "      <td>tt2015381</td>\n",
       "      <td>Guardians of the Galaxy</td>\n",
       "      <td>7.9</td>\n",
       "    </tr>\n",
       "    <tr>\n",
       "      <th>125</th>\n",
       "      <td>tt2084970</td>\n",
       "      <td>The Imitation Game</td>\n",
       "      <td>8.0</td>\n",
       "    </tr>\n",
       "    <tr>\n",
       "      <th>128</th>\n",
       "      <td>tt2267998</td>\n",
       "      <td>Gone Girl</td>\n",
       "      <td>7.9</td>\n",
       "    </tr>\n",
       "    <tr>\n",
       "      <th>138</th>\n",
       "      <td>tt2278388</td>\n",
       "      <td>The Grand Budapest Hotel</td>\n",
       "      <td>7.9</td>\n",
       "    </tr>\n",
       "    <tr>\n",
       "      <th>370</th>\n",
       "      <td>tt1375666</td>\n",
       "      <td>Inception</td>\n",
       "      <td>7.9</td>\n",
       "    </tr>\n",
       "    <tr>\n",
       "      <th>599</th>\n",
       "      <td>tt0468569</td>\n",
       "      <td>The Dark Knight</td>\n",
       "      <td>8.1</td>\n",
       "    </tr>\n",
       "    <tr>\n",
       "      <th>872</th>\n",
       "      <td>tt0253474</td>\n",
       "      <td>The Pianist</td>\n",
       "      <td>7.9</td>\n",
       "    </tr>\n",
       "    <tr>\n",
       "      <th>1081</th>\n",
       "      <td>tt0167260</td>\n",
       "      <td>The Lord of the Rings: The Return of the King</td>\n",
       "      <td>7.9</td>\n",
       "    </tr>\n",
       "    <tr>\n",
       "      <th>1183</th>\n",
       "      <td>tt0993846</td>\n",
       "      <td>The Wolf of Wall Street</td>\n",
       "      <td>7.9</td>\n",
       "    </tr>\n",
       "    <tr>\n",
       "      <th>1191</th>\n",
       "      <td>tt2024544</td>\n",
       "      <td>12 Years a Slave</td>\n",
       "      <td>7.9</td>\n",
       "    </tr>\n",
       "    <tr>\n",
       "      <th>1800</th>\n",
       "      <td>tt0209144</td>\n",
       "      <td>Memento</td>\n",
       "      <td>7.9</td>\n",
       "    </tr>\n",
       "  </tbody>\n",
       "</table>\n",
       "</div>"
      ],
      "text/plain": [
       "        imdb_id                                 original_title  vote_average\n",
       "9     tt2096673                                     Inside Out           8.0\n",
       "34    tt3170832                                           Room           8.0\n",
       "118   tt0816692                                   Interstellar           8.0\n",
       "119   tt2015381                        Guardians of the Galaxy           7.9\n",
       "125   tt2084970                             The Imitation Game           8.0\n",
       "128   tt2267998                                      Gone Girl           7.9\n",
       "138   tt2278388                       The Grand Budapest Hotel           7.9\n",
       "370   tt1375666                                      Inception           7.9\n",
       "599   tt0468569                                The Dark Knight           8.1\n",
       "872   tt0253474                                    The Pianist           7.9\n",
       "1081  tt0167260  The Lord of the Rings: The Return of the King           7.9\n",
       "1183  tt0993846                        The Wolf of Wall Street           7.9\n",
       "1191  tt2024544                               12 Years a Slave           7.9\n",
       "1800  tt0209144                                        Memento           7.9"
      ]
     },
     "metadata": {},
     "output_type": "display_data"
    }
   ],
   "source": [
    "data_best = data[data['vote_average'] > data.quantile(0.99, numeric_only=True)['vote_average']][['imdb_id', 'original_title', 'vote_average']]\n",
    "display (data_best)"
   ]
  },
  {
   "cell_type": "code",
   "execution_count": 64,
   "metadata": {},
   "outputs": [
    {
     "name": "stdout",
     "output_type": "stream",
     "text": [
      "[original_title\n",
      "The Dark Knight                                      8.1\n",
      "The Imitation Game                                   8.0\n",
      "Inside Out                                           8.0\n",
      "Interstellar                                         8.0\n",
      "Room                                                 8.0\n",
      "The Grand Budapest Hotel                             7.9\n",
      "The Pianist                                          7.9\n",
      "Guardians of the Galaxy                              7.9\n",
      "Memento                                              7.9\n",
      "The Wolf of Wall Street                              7.9\n",
      "Inception                                            7.9\n",
      "Gone Girl                                            7.9\n",
      "12 Years a Slave                                     7.9\n",
      "The Lord of the Rings: The Return of the King        7.9\n",
      "Prisoners                                            7.8\n",
      "The Fault in Our Stars                               7.8\n",
      "Eternal Sunshine of the Spotless Mind                7.8\n",
      "The Prestige                                         7.8\n",
      "The Lord of the Rings: The Fellowship of the Ring    7.8\n",
      "Name: vote_average, dtype: float64]\n"
     ]
    }
   ],
   "source": [
    "x =round( len(data)*0.01) # вычисляем 1 процент от общего списка фильмов\n",
    "data_best_film=[]  # создаём пустой список\n",
    "data_best= data.groupby(['original_title' ]) ['vote_average'].max().sort_values(ascending=False) # группируем фильмы по рейтингу\n",
    "data_best_film.append(data_best.head(x))  # добавляем в список 1 % лучших фильмов\n",
    "print (data_best_film)"
   ]
  },
  {
   "cell_type": "code",
   "execution_count": 65,
   "metadata": {},
   "outputs": [],
   "source": [
    "answers['26'] = data_best_film # +"
   ]
  },
  {
   "cell_type": "markdown",
   "metadata": {
    "colab_type": "text",
    "id": "MdXsUXbCVqAV"
   },
   "source": [
    "# 27. Какие актеры чаще всего снимаются в одном фильме вместе?\n"
   ]
  },
  {
   "cell_type": "code",
   "execution_count": 66,
   "metadata": {},
   "outputs": [],
   "source": [
    "answers['27'] = 'Daniel Radcliffe Rupert Grint' # + "
   ]
  },
  {
   "cell_type": "code",
   "execution_count": 67,
   "metadata": {},
   "outputs": [
    {
     "data": {
      "text/plain": [
       "Daniel Radcliffe Emma Watson        8\n",
       "Daniel Radcliffe Rupert Grint       8\n",
       "Rupert Grint Emma Watson            7\n",
       "Johnny Depp Helena Bonham Carter    6\n",
       "Ben Stiller Owen Wilson             6\n",
       "Adam Sandler Kevin James            5\n",
       "Robert Pattinson Taylor Lautner     5\n",
       "Hugh Jackman Ian McKellen           5\n",
       "Kristen Stewart Taylor Lautner      5\n",
       "Kristen Stewart Robert Pattinson    5\n",
       "Name: actor_combinations, dtype: int64"
      ]
     },
     "execution_count": 67,
     "metadata": {},
     "output_type": "execute_result"
    }
   ],
   "source": [
    "from itertools import combinations\n",
    "actor_list = data.cast.str.split('|').tolist()\n",
    "combo_list=[]\n",
    "for i in actor_list:\n",
    "    for j in combinations(i, 2):\n",
    "        combo_list.append(' '.join(j))\n",
    "combo_list = pd.DataFrame(combo_list)\n",
    "combo_list.columns = ['actor_combinations']\n",
    "combo_list.actor_combinations.value_counts().head(10)"
   ]
  },
  {
   "cell_type": "markdown",
   "metadata": {
    "colab_type": "text",
    "id": "4ymnxEVoVqAW"
   },
   "source": [
    "ВАРИАНТ 2"
   ]
  },
  {
   "cell_type": "markdown",
   "metadata": {
    "colab_type": "text",
    "id": "U0nONFnGVqAX"
   },
   "source": [
    "# Submission"
   ]
  },
  {
   "cell_type": "code",
   "execution_count": 68,
   "metadata": {
    "colab": {},
    "colab_type": "code",
    "id": "IfcaRO9-VqAX",
    "outputId": "0f132912-32bb-4196-c98c-abfbc4ad5a5f"
   },
   "outputs": [
    {
     "data": {
      "text/plain": [
       "{'1': '723 Pirates of the Caribbean: On Stranger Tides ( tt1298650 )',\n",
       " '2': '1157 Gods and Generals ( tt0279111 )',\n",
       " '3': '768 Winnie the Pooh ( tt1449283 )',\n",
       " '4': 110,\n",
       " '5': 107.0,\n",
       " '6': '239 Avatar ( tt0499549 )',\n",
       " '7': '1245 The Lone Ranger ( tt1210819 )',\n",
       " '8': '1478',\n",
       " '9': '599. The Dark Knight (tt0468569)',\n",
       " '10': '1245. The Lone Ranger  (tt1210819)',\n",
       " '11': 'Drama',\n",
       " '12': 'Drama',\n",
       " '13': 'Peter Jackson',\n",
       " '14': 'Robert Rodriguez ',\n",
       " '15': 'Chris Hemsworth',\n",
       " '16': 'Matt Damon',\n",
       " '17': 'Action',\n",
       " '18': 'K-19: The Widowmaker',\n",
       " '19': '2015',\n",
       " '20': '2014',\n",
       " '21': '9',\n",
       " '22': '450',\n",
       " '23': 'Peter Jackson',\n",
       " '24': 'Four By Two Productions',\n",
       " '25': 'Midnight Picture Show',\n",
       " '26': [original_title\n",
       "  The Dark Knight                                      8.1\n",
       "  The Imitation Game                                   8.0\n",
       "  Inside Out                                           8.0\n",
       "  Interstellar                                         8.0\n",
       "  Room                                                 8.0\n",
       "  The Grand Budapest Hotel                             7.9\n",
       "  The Pianist                                          7.9\n",
       "  Guardians of the Galaxy                              7.9\n",
       "  Memento                                              7.9\n",
       "  The Wolf of Wall Street                              7.9\n",
       "  Inception                                            7.9\n",
       "  Gone Girl                                            7.9\n",
       "  12 Years a Slave                                     7.9\n",
       "  The Lord of the Rings: The Return of the King        7.9\n",
       "  Prisoners                                            7.8\n",
       "  The Fault in Our Stars                               7.8\n",
       "  Eternal Sunshine of the Spotless Mind                7.8\n",
       "  The Prestige                                         7.8\n",
       "  The Lord of the Rings: The Fellowship of the Ring    7.8\n",
       "  Name: vote_average, dtype: float64],\n",
       " '27': 'Daniel Radcliffe Rupert Grint'}"
      ]
     },
     "execution_count": 68,
     "metadata": {},
     "output_type": "execute_result"
    }
   ],
   "source": [
    "# в конце можно посмотреть свои ответы к каждому вопросу\n",
    "answers"
   ]
  },
  {
   "cell_type": "code",
   "execution_count": 69,
   "metadata": {
    "colab": {},
    "colab_type": "code",
    "id": "SiRmHPl8VqAd"
   },
   "outputs": [
    {
     "data": {
      "text/plain": [
       "27"
      ]
     },
     "execution_count": 69,
     "metadata": {},
     "output_type": "execute_result"
    }
   ],
   "source": [
    "# и убедиться что ни чего не пропустил)\n",
    "len(answers)"
   ]
  },
  {
   "cell_type": "code",
   "execution_count": null,
   "metadata": {
    "colab": {},
    "colab_type": "code",
    "id": "uCfuTkRbVqAg"
   },
   "outputs": [],
   "source": []
  },
  {
   "cell_type": "code",
   "execution_count": null,
   "metadata": {
    "colab": {},
    "colab_type": "code",
    "id": "Vwx3NrkSVqAl"
   },
   "outputs": [],
   "source": []
  }
 ],
 "metadata": {
  "colab": {
   "name": "Copy of [SF-DST] Movies IMBD v4.1 TEMPLATE.ipynb",
   "provenance": []
  },
  "kernelspec": {
   "display_name": "Python 3",
   "language": "python",
   "name": "python3"
  },
  "language_info": {
   "codemirror_mode": {
    "name": "ipython",
    "version": 3
   },
   "file_extension": ".py",
   "mimetype": "text/x-python",
   "name": "python",
   "nbconvert_exporter": "python",
   "pygments_lexer": "ipython3",
   "version": "3.7.6"
  }
 },
 "nbformat": 4,
 "nbformat_minor": 1
}
